{
 "cells": [
  {
   "cell_type": "code",
   "execution_count": 6,
   "metadata": {},
   "outputs": [],
   "source": [
    "import pandas as pd\n",
    "import numpy as np\n",
    "from app import *\n",
    "\n",
    "\n",
    "\n",
    "  "
   ]
  },
  {
   "cell_type": "code",
   "execution_count": 10,
   "metadata": {},
   "outputs": [
    {
     "name": "stdout",
     "output_type": "stream",
     "text": [
      "VALUE: 0.5\n",
      "No articles found in the response.\n",
      "API Response: {'Information': 'Thank you for using Alpha Vantage! Our standard API rate limit is 25 requests per day. Please subscribe to any of the premium plans at https://www.alphavantage.co/premium/ to instantly remove all daily rate limits.'}\n",
      "VALUE: 0.5\n",
      "No articles found in the response.\n",
      "API Response: {'Information': 'Thank you for using Alpha Vantage! Our standard API rate limit is 25 requests per day. Please subscribe to any of the premium plans at https://www.alphavantage.co/premium/ to instantly remove all daily rate limits.'}\n",
      "hi 0\n",
      "Today: 2025-01-04\n",
      "Early Date Object: 2025-01-10\n",
      "Difference (days): 6\n"
     ]
    },
    {
     "name": "stderr",
     "output_type": "stream",
     "text": [
      "/Users/DELL/Desktop/black-scholes-project/Black-Scholes-Pricing-Model/black-scholes-frontend/src/app/app.py:318: RuntimeWarning: divide by zero encountered in scalar divide\n",
      "  d1 = (np.log(S / K) + (r + 0.5 * sigma**2) * T) / (sigma * np.sqrt(T))\n"
     ]
    },
    {
     "name": "stdout",
     "output_type": "stream",
     "text": [
      "VALUE: 0.5\n",
      "No articles found in the response.\n",
      "API Response: {'Information': 'Thank you for using Alpha Vantage! Our standard API rate limit is 25 requests per day. Please subscribe to any of the premium plans at https://www.alphavantage.co/premium/ to instantly remove all daily rate limits.'}\n",
      "VALUE: 0.5\n",
      "No articles found in the response.\n",
      "API Response: {'Information': 'Thank you for using Alpha Vantage! Our standard API rate limit is 25 requests per day. Please subscribe to any of the premium plans at https://www.alphavantage.co/premium/ to instantly remove all daily rate limits.'}\n",
      "hi 0\n",
      "Today: 2025-01-04\n",
      "Early Date Object: 2025-01-10\n",
      "Difference (days): 6\n"
     ]
    },
    {
     "name": "stderr",
     "output_type": "stream",
     "text": [
      "/Users/DELL/Desktop/black-scholes-project/Black-Scholes-Pricing-Model/black-scholes-frontend/src/app/app.py:318: RuntimeWarning: divide by zero encountered in scalar divide\n",
      "  d1 = (np.log(S / K) + (r + 0.5 * sigma**2) * T) / (sigma * np.sqrt(T))\n"
     ]
    },
    {
     "name": "stdout",
     "output_type": "stream",
     "text": [
      "VALUE: 0.5\n",
      "No articles found in the response.\n",
      "API Response: {'Information': 'Thank you for using Alpha Vantage! Our standard API rate limit is 25 requests per day. Please subscribe to any of the premium plans at https://www.alphavantage.co/premium/ to instantly remove all daily rate limits.'}\n",
      "VALUE: 0.5\n",
      "No articles found in the response.\n",
      "API Response: {'Information': 'Thank you for using Alpha Vantage! Our standard API rate limit is 25 requests per day. Please subscribe to any of the premium plans at https://www.alphavantage.co/premium/ to instantly remove all daily rate limits.'}\n",
      "hi 0\n",
      "Today: 2025-01-04\n",
      "Early Date Object: 2025-01-10\n",
      "Difference (days): 6\n"
     ]
    },
    {
     "name": "stderr",
     "output_type": "stream",
     "text": [
      "/Users/DELL/Desktop/black-scholes-project/Black-Scholes-Pricing-Model/black-scholes-frontend/src/app/app.py:318: RuntimeWarning: divide by zero encountered in scalar divide\n",
      "  d1 = (np.log(S / K) + (r + 0.5 * sigma**2) * T) / (sigma * np.sqrt(T))\n"
     ]
    },
    {
     "name": "stdout",
     "output_type": "stream",
     "text": [
      "VALUE: 0.5\n",
      "No articles found in the response.\n",
      "API Response: {'Information': 'Thank you for using Alpha Vantage! Our standard API rate limit is 25 requests per day. Please subscribe to any of the premium plans at https://www.alphavantage.co/premium/ to instantly remove all daily rate limits.'}\n",
      "VALUE: 0.5\n",
      "No articles found in the response.\n",
      "API Response: {'Information': 'Thank you for using Alpha Vantage! Our standard API rate limit is 25 requests per day. Please subscribe to any of the premium plans at https://www.alphavantage.co/premium/ to instantly remove all daily rate limits.'}\n",
      "hi 0\n",
      "Today: 2025-01-04\n",
      "Early Date Object: 2025-01-10\n",
      "Difference (days): 6\n"
     ]
    },
    {
     "name": "stderr",
     "output_type": "stream",
     "text": [
      "/Users/DELL/Desktop/black-scholes-project/Black-Scholes-Pricing-Model/black-scholes-frontend/src/app/app.py:318: RuntimeWarning: divide by zero encountered in scalar divide\n",
      "  d1 = (np.log(S / K) + (r + 0.5 * sigma**2) * T) / (sigma * np.sqrt(T))\n"
     ]
    },
    {
     "name": "stdout",
     "output_type": "stream",
     "text": [
      "VALUE: 0.5\n",
      "No articles found in the response.\n",
      "API Response: {'Information': 'Thank you for using Alpha Vantage! Our standard API rate limit is 25 requests per day. Please subscribe to any of the premium plans at https://www.alphavantage.co/premium/ to instantly remove all daily rate limits.'}\n",
      "VALUE: 0.5\n",
      "No articles found in the response.\n",
      "API Response: {'Information': 'Thank you for using Alpha Vantage! Our standard API rate limit is 25 requests per day. Please subscribe to any of the premium plans at https://www.alphavantage.co/premium/ to instantly remove all daily rate limits.'}\n",
      "hi 0\n",
      "Today: 2025-01-04\n",
      "Early Date Object: 2025-01-10\n",
      "Difference (days): 6\n"
     ]
    },
    {
     "name": "stderr",
     "output_type": "stream",
     "text": [
      "/Users/DELL/Desktop/black-scholes-project/Black-Scholes-Pricing-Model/black-scholes-frontend/src/app/app.py:318: RuntimeWarning: divide by zero encountered in scalar divide\n",
      "  d1 = (np.log(S / K) + (r + 0.5 * sigma**2) * T) / (sigma * np.sqrt(T))\n"
     ]
    },
    {
     "name": "stdout",
     "output_type": "stream",
     "text": [
      "VALUE: 0.5\n",
      "No articles found in the response.\n",
      "API Response: {'Information': 'Thank you for using Alpha Vantage! Our standard API rate limit is 25 requests per day. Please subscribe to any of the premium plans at https://www.alphavantage.co/premium/ to instantly remove all daily rate limits.'}\n",
      "VALUE: 0.5\n",
      "No articles found in the response.\n",
      "API Response: {'Information': 'Thank you for using Alpha Vantage! Our standard API rate limit is 25 requests per day. Please subscribe to any of the premium plans at https://www.alphavantage.co/premium/ to instantly remove all daily rate limits.'}\n",
      "hi 0\n",
      "Today: 2025-01-04\n",
      "Early Date Object: 2025-01-10\n",
      "Difference (days): 6\n"
     ]
    },
    {
     "name": "stderr",
     "output_type": "stream",
     "text": [
      "/Users/DELL/Desktop/black-scholes-project/Black-Scholes-Pricing-Model/black-scholes-frontend/src/app/app.py:318: RuntimeWarning: divide by zero encountered in scalar divide\n",
      "  d1 = (np.log(S / K) + (r + 0.5 * sigma**2) * T) / (sigma * np.sqrt(T))\n"
     ]
    },
    {
     "name": "stdout",
     "output_type": "stream",
     "text": [
      "VALUE: 0.5\n",
      "No articles found in the response.\n",
      "API Response: {'Information': 'Thank you for using Alpha Vantage! Our standard API rate limit is 25 requests per day. Please subscribe to any of the premium plans at https://www.alphavantage.co/premium/ to instantly remove all daily rate limits.'}\n",
      "VALUE: 0.5\n",
      "No articles found in the response.\n",
      "API Response: {'Information': 'Thank you for using Alpha Vantage! Our standard API rate limit is 25 requests per day. Please subscribe to any of the premium plans at https://www.alphavantage.co/premium/ to instantly remove all daily rate limits.'}\n",
      "hi 0\n",
      "Today: 2025-01-04\n",
      "Early Date Object: 2025-01-10\n",
      "Difference (days): 6\n"
     ]
    },
    {
     "name": "stderr",
     "output_type": "stream",
     "text": [
      "/Users/DELL/Desktop/black-scholes-project/Black-Scholes-Pricing-Model/black-scholes-frontend/src/app/app.py:318: RuntimeWarning: divide by zero encountered in scalar divide\n",
      "  d1 = (np.log(S / K) + (r + 0.5 * sigma**2) * T) / (sigma * np.sqrt(T))\n"
     ]
    },
    {
     "name": "stdout",
     "output_type": "stream",
     "text": [
      "VALUE: 0.5\n",
      "No articles found in the response.\n",
      "API Response: {'Information': 'Thank you for using Alpha Vantage! Our standard API rate limit is 25 requests per day. Please subscribe to any of the premium plans at https://www.alphavantage.co/premium/ to instantly remove all daily rate limits.'}\n",
      "VALUE: 0.5\n",
      "No articles found in the response.\n",
      "API Response: {'Information': 'Thank you for using Alpha Vantage! Our standard API rate limit is 25 requests per day. Please subscribe to any of the premium plans at https://www.alphavantage.co/premium/ to instantly remove all daily rate limits.'}\n",
      "hi 0\n",
      "Today: 2025-01-04\n",
      "Early Date Object: 2025-01-10\n",
      "Difference (days): 6\n"
     ]
    },
    {
     "name": "stderr",
     "output_type": "stream",
     "text": [
      "/Users/DELL/Desktop/black-scholes-project/Black-Scholes-Pricing-Model/black-scholes-frontend/src/app/app.py:318: RuntimeWarning: divide by zero encountered in scalar divide\n",
      "  d1 = (np.log(S / K) + (r + 0.5 * sigma**2) * T) / (sigma * np.sqrt(T))\n"
     ]
    },
    {
     "name": "stdout",
     "output_type": "stream",
     "text": [
      "VALUE: 0.5\n",
      "No articles found in the response.\n",
      "API Response: {'Information': 'Thank you for using Alpha Vantage! Our standard API rate limit is 25 requests per day. Please subscribe to any of the premium plans at https://www.alphavantage.co/premium/ to instantly remove all daily rate limits.'}\n",
      "VALUE: 0.5\n",
      "No articles found in the response.\n",
      "API Response: {'Information': 'Thank you for using Alpha Vantage! Our standard API rate limit is 25 requests per day. Please subscribe to any of the premium plans at https://www.alphavantage.co/premium/ to instantly remove all daily rate limits.'}\n",
      "hi 0\n",
      "Today: 2025-01-04\n",
      "Early Date Object: 2025-01-10\n",
      "Difference (days): 6\n"
     ]
    },
    {
     "name": "stderr",
     "output_type": "stream",
     "text": [
      "/Users/DELL/Desktop/black-scholes-project/Black-Scholes-Pricing-Model/black-scholes-frontend/src/app/app.py:318: RuntimeWarning: divide by zero encountered in scalar divide\n",
      "  d1 = (np.log(S / K) + (r + 0.5 * sigma**2) * T) / (sigma * np.sqrt(T))\n"
     ]
    },
    {
     "name": "stdout",
     "output_type": "stream",
     "text": [
      "VALUE: 0.5\n",
      "No articles found in the response.\n",
      "API Response: {'Information': 'Thank you for using Alpha Vantage! Our standard API rate limit is 25 requests per day. Please subscribe to any of the premium plans at https://www.alphavantage.co/premium/ to instantly remove all daily rate limits.'}\n",
      "VALUE: 0.5\n",
      "No articles found in the response.\n",
      "API Response: {'Information': 'Thank you for using Alpha Vantage! Our standard API rate limit is 25 requests per day. Please subscribe to any of the premium plans at https://www.alphavantage.co/premium/ to instantly remove all daily rate limits.'}\n",
      "hi 0\n",
      "Today: 2025-01-04\n",
      "Early Date Object: 2025-01-10\n",
      "Difference (days): 6\n"
     ]
    },
    {
     "name": "stderr",
     "output_type": "stream",
     "text": [
      "/Users/DELL/Desktop/black-scholes-project/Black-Scholes-Pricing-Model/black-scholes-frontend/src/app/app.py:318: RuntimeWarning: divide by zero encountered in scalar divide\n",
      "  d1 = (np.log(S / K) + (r + 0.5 * sigma**2) * T) / (sigma * np.sqrt(T))\n"
     ]
    },
    {
     "name": "stdout",
     "output_type": "stream",
     "text": [
      "VALUE: 0.5\n",
      "No articles found in the response.\n",
      "API Response: {'Information': 'Thank you for using Alpha Vantage! Our standard API rate limit is 25 requests per day. Please subscribe to any of the premium plans at https://www.alphavantage.co/premium/ to instantly remove all daily rate limits.'}\n",
      "VALUE: 0.5\n",
      "No articles found in the response.\n",
      "API Response: {'Information': 'Thank you for using Alpha Vantage! Our standard API rate limit is 25 requests per day. Please subscribe to any of the premium plans at https://www.alphavantage.co/premium/ to instantly remove all daily rate limits.'}\n",
      "hi 0\n",
      "Today: 2025-01-04\n",
      "Early Date Object: 2025-01-10\n",
      "Difference (days): 6\n"
     ]
    },
    {
     "name": "stderr",
     "output_type": "stream",
     "text": [
      "/Users/DELL/Desktop/black-scholes-project/Black-Scholes-Pricing-Model/black-scholes-frontend/src/app/app.py:318: RuntimeWarning: divide by zero encountered in scalar divide\n",
      "  d1 = (np.log(S / K) + (r + 0.5 * sigma**2) * T) / (sigma * np.sqrt(T))\n"
     ]
    },
    {
     "name": "stdout",
     "output_type": "stream",
     "text": [
      "VALUE: 0.5\n",
      "No articles found in the response.\n",
      "API Response: {'Information': 'Thank you for using Alpha Vantage! Our standard API rate limit is 25 requests per day. Please subscribe to any of the premium plans at https://www.alphavantage.co/premium/ to instantly remove all daily rate limits.'}\n",
      "VALUE: 0.5\n",
      "No articles found in the response.\n",
      "API Response: {'Information': 'Thank you for using Alpha Vantage! Our standard API rate limit is 25 requests per day. Please subscribe to any of the premium plans at https://www.alphavantage.co/premium/ to instantly remove all daily rate limits.'}\n",
      "hi 0\n",
      "Today: 2025-01-04\n",
      "Early Date Object: 2025-01-10\n",
      "Difference (days): 6\n"
     ]
    },
    {
     "name": "stderr",
     "output_type": "stream",
     "text": [
      "/Users/DELL/Desktop/black-scholes-project/Black-Scholes-Pricing-Model/black-scholes-frontend/src/app/app.py:318: RuntimeWarning: divide by zero encountered in scalar divide\n",
      "  d1 = (np.log(S / K) + (r + 0.5 * sigma**2) * T) / (sigma * np.sqrt(T))\n"
     ]
    },
    {
     "name": "stdout",
     "output_type": "stream",
     "text": [
      "VALUE: 0.5\n",
      "No articles found in the response.\n",
      "API Response: {'Information': 'Thank you for using Alpha Vantage! Our standard API rate limit is 25 requests per day. Please subscribe to any of the premium plans at https://www.alphavantage.co/premium/ to instantly remove all daily rate limits.'}\n",
      "VALUE: 0.5\n",
      "No articles found in the response.\n",
      "API Response: {'Information': 'Thank you for using Alpha Vantage! Our standard API rate limit is 25 requests per day. Please subscribe to any of the premium plans at https://www.alphavantage.co/premium/ to instantly remove all daily rate limits.'}\n",
      "hi 0\n",
      "Today: 2025-01-04\n",
      "Early Date Object: 2025-01-10\n",
      "Difference (days): 6\n"
     ]
    },
    {
     "name": "stderr",
     "output_type": "stream",
     "text": [
      "/Users/DELL/Desktop/black-scholes-project/Black-Scholes-Pricing-Model/black-scholes-frontend/src/app/app.py:318: RuntimeWarning: divide by zero encountered in scalar divide\n",
      "  d1 = (np.log(S / K) + (r + 0.5 * sigma**2) * T) / (sigma * np.sqrt(T))\n"
     ]
    },
    {
     "name": "stdout",
     "output_type": "stream",
     "text": [
      "VALUE: 0.5\n",
      "No articles found in the response.\n",
      "API Response: {'Information': 'Thank you for using Alpha Vantage! Our standard API rate limit is 25 requests per day. Please subscribe to any of the premium plans at https://www.alphavantage.co/premium/ to instantly remove all daily rate limits.'}\n",
      "VALUE: 0.5\n",
      "No articles found in the response.\n",
      "API Response: {'Information': 'Thank you for using Alpha Vantage! Our standard API rate limit is 25 requests per day. Please subscribe to any of the premium plans at https://www.alphavantage.co/premium/ to instantly remove all daily rate limits.'}\n",
      "hi 0\n",
      "Today: 2025-01-04\n",
      "Early Date Object: 2025-01-10\n",
      "Difference (days): 6\n"
     ]
    },
    {
     "name": "stderr",
     "output_type": "stream",
     "text": [
      "/Users/DELL/Desktop/black-scholes-project/Black-Scholes-Pricing-Model/black-scholes-frontend/src/app/app.py:318: RuntimeWarning: divide by zero encountered in scalar divide\n",
      "  d1 = (np.log(S / K) + (r + 0.5 * sigma**2) * T) / (sigma * np.sqrt(T))\n"
     ]
    },
    {
     "name": "stdout",
     "output_type": "stream",
     "text": [
      "VALUE: 0.5\n",
      "No articles found in the response.\n",
      "API Response: {'Information': 'Thank you for using Alpha Vantage! Our standard API rate limit is 25 requests per day. Please subscribe to any of the premium plans at https://www.alphavantage.co/premium/ to instantly remove all daily rate limits.'}\n",
      "VALUE: 0.5\n",
      "No articles found in the response.\n",
      "API Response: {'Information': 'Thank you for using Alpha Vantage! Our standard API rate limit is 25 requests per day. Please subscribe to any of the premium plans at https://www.alphavantage.co/premium/ to instantly remove all daily rate limits.'}\n",
      "hi 0\n",
      "Today: 2025-01-04\n",
      "Early Date Object: 2025-01-10\n",
      "Difference (days): 6\n"
     ]
    },
    {
     "name": "stderr",
     "output_type": "stream",
     "text": [
      "/Users/DELL/Desktop/black-scholes-project/Black-Scholes-Pricing-Model/black-scholes-frontend/src/app/app.py:318: RuntimeWarning: divide by zero encountered in scalar divide\n",
      "  d1 = (np.log(S / K) + (r + 0.5 * sigma**2) * T) / (sigma * np.sqrt(T))\n"
     ]
    },
    {
     "name": "stdout",
     "output_type": "stream",
     "text": [
      "VALUE: 0.5\n",
      "No articles found in the response.\n",
      "API Response: {'Information': 'Thank you for using Alpha Vantage! Our standard API rate limit is 25 requests per day. Please subscribe to any of the premium plans at https://www.alphavantage.co/premium/ to instantly remove all daily rate limits.'}\n",
      "VALUE: 0.5\n",
      "No articles found in the response.\n",
      "API Response: {'Information': 'Thank you for using Alpha Vantage! Our standard API rate limit is 25 requests per day. Please subscribe to any of the premium plans at https://www.alphavantage.co/premium/ to instantly remove all daily rate limits.'}\n",
      "hi 0\n",
      "Today: 2025-01-04\n",
      "Early Date Object: 2025-01-10\n",
      "Difference (days): 6\n"
     ]
    },
    {
     "name": "stderr",
     "output_type": "stream",
     "text": [
      "/Users/DELL/Desktop/black-scholes-project/Black-Scholes-Pricing-Model/black-scholes-frontend/src/app/app.py:318: RuntimeWarning: divide by zero encountered in scalar divide\n",
      "  d1 = (np.log(S / K) + (r + 0.5 * sigma**2) * T) / (sigma * np.sqrt(T))\n"
     ]
    },
    {
     "name": "stdout",
     "output_type": "stream",
     "text": [
      "VALUE: 0.5\n",
      "No articles found in the response.\n",
      "API Response: {'Information': 'Thank you for using Alpha Vantage! Our standard API rate limit is 25 requests per day. Please subscribe to any of the premium plans at https://www.alphavantage.co/premium/ to instantly remove all daily rate limits.'}\n",
      "VALUE: 0.5\n",
      "No articles found in the response.\n",
      "API Response: {'Information': 'Thank you for using Alpha Vantage! Our standard API rate limit is 25 requests per day. Please subscribe to any of the premium plans at https://www.alphavantage.co/premium/ to instantly remove all daily rate limits.'}\n",
      "hi 0\n",
      "Today: 2025-01-04\n",
      "Early Date Object: 2025-01-10\n",
      "Difference (days): 6\n"
     ]
    },
    {
     "name": "stderr",
     "output_type": "stream",
     "text": [
      "/Users/DELL/Desktop/black-scholes-project/Black-Scholes-Pricing-Model/black-scholes-frontend/src/app/app.py:318: RuntimeWarning: divide by zero encountered in scalar divide\n",
      "  d1 = (np.log(S / K) + (r + 0.5 * sigma**2) * T) / (sigma * np.sqrt(T))\n"
     ]
    },
    {
     "name": "stdout",
     "output_type": "stream",
     "text": [
      "VALUE: 0.5\n",
      "No articles found in the response.\n",
      "API Response: {'Information': 'Thank you for using Alpha Vantage! Our standard API rate limit is 25 requests per day. Please subscribe to any of the premium plans at https://www.alphavantage.co/premium/ to instantly remove all daily rate limits.'}\n",
      "VALUE: 0.5\n",
      "No articles found in the response.\n",
      "API Response: {'Information': 'Thank you for using Alpha Vantage! Our standard API rate limit is 25 requests per day. Please subscribe to any of the premium plans at https://www.alphavantage.co/premium/ to instantly remove all daily rate limits.'}\n",
      "hi 0\n",
      "Today: 2025-01-04\n",
      "Early Date Object: 2025-01-10\n",
      "Difference (days): 6\n"
     ]
    },
    {
     "name": "stderr",
     "output_type": "stream",
     "text": [
      "/Users/DELL/Desktop/black-scholes-project/Black-Scholes-Pricing-Model/black-scholes-frontend/src/app/app.py:318: RuntimeWarning: divide by zero encountered in scalar divide\n",
      "  d1 = (np.log(S / K) + (r + 0.5 * sigma**2) * T) / (sigma * np.sqrt(T))\n"
     ]
    },
    {
     "name": "stdout",
     "output_type": "stream",
     "text": [
      "VALUE: 0.5\n",
      "No articles found in the response.\n",
      "API Response: {'Information': 'Thank you for using Alpha Vantage! Our standard API rate limit is 25 requests per day. Please subscribe to any of the premium plans at https://www.alphavantage.co/premium/ to instantly remove all daily rate limits.'}\n",
      "VALUE: 0.5\n",
      "No articles found in the response.\n",
      "API Response: {'Information': 'Thank you for using Alpha Vantage! Our standard API rate limit is 25 requests per day. Please subscribe to any of the premium plans at https://www.alphavantage.co/premium/ to instantly remove all daily rate limits.'}\n",
      "hi 0\n",
      "Today: 2025-01-04\n",
      "Early Date Object: 2025-01-10\n",
      "Difference (days): 6\n"
     ]
    },
    {
     "name": "stderr",
     "output_type": "stream",
     "text": [
      "/Users/DELL/Desktop/black-scholes-project/Black-Scholes-Pricing-Model/black-scholes-frontend/src/app/app.py:318: RuntimeWarning: divide by zero encountered in scalar divide\n",
      "  d1 = (np.log(S / K) + (r + 0.5 * sigma**2) * T) / (sigma * np.sqrt(T))\n"
     ]
    },
    {
     "name": "stdout",
     "output_type": "stream",
     "text": [
      "VALUE: 0.5\n",
      "No articles found in the response.\n",
      "API Response: {'Information': 'Thank you for using Alpha Vantage! Our standard API rate limit is 25 requests per day. Please subscribe to any of the premium plans at https://www.alphavantage.co/premium/ to instantly remove all daily rate limits.'}\n",
      "VALUE: 0.5\n",
      "No articles found in the response.\n",
      "API Response: {'Information': 'Thank you for using Alpha Vantage! Our standard API rate limit is 25 requests per day. Please subscribe to any of the premium plans at https://www.alphavantage.co/premium/ to instantly remove all daily rate limits.'}\n",
      "hi 0\n",
      "Today: 2025-01-04\n",
      "Early Date Object: 2025-01-10\n",
      "Difference (days): 6\n"
     ]
    },
    {
     "name": "stderr",
     "output_type": "stream",
     "text": [
      "/Users/DELL/Desktop/black-scholes-project/Black-Scholes-Pricing-Model/black-scholes-frontend/src/app/app.py:318: RuntimeWarning: divide by zero encountered in scalar divide\n",
      "  d1 = (np.log(S / K) + (r + 0.5 * sigma**2) * T) / (sigma * np.sqrt(T))\n"
     ]
    },
    {
     "name": "stdout",
     "output_type": "stream",
     "text": [
      "VALUE: 0.5\n",
      "No articles found in the response.\n",
      "API Response: {'Information': 'Thank you for using Alpha Vantage! Our standard API rate limit is 25 requests per day. Please subscribe to any of the premium plans at https://www.alphavantage.co/premium/ to instantly remove all daily rate limits.'}\n",
      "VALUE: 0.5\n",
      "No articles found in the response.\n",
      "API Response: {'Information': 'Thank you for using Alpha Vantage! Our standard API rate limit is 25 requests per day. Please subscribe to any of the premium plans at https://www.alphavantage.co/premium/ to instantly remove all daily rate limits.'}\n",
      "hi 0\n",
      "Today: 2025-01-04\n",
      "Early Date Object: 2025-01-10\n",
      "Difference (days): 6\n"
     ]
    },
    {
     "name": "stderr",
     "output_type": "stream",
     "text": [
      "/Users/DELL/Desktop/black-scholes-project/Black-Scholes-Pricing-Model/black-scholes-frontend/src/app/app.py:318: RuntimeWarning: divide by zero encountered in scalar divide\n",
      "  d1 = (np.log(S / K) + (r + 0.5 * sigma**2) * T) / (sigma * np.sqrt(T))\n"
     ]
    },
    {
     "name": "stdout",
     "output_type": "stream",
     "text": [
      "VALUE: 0.5\n",
      "No articles found in the response.\n",
      "API Response: {'Information': 'Thank you for using Alpha Vantage! Our standard API rate limit is 25 requests per day. Please subscribe to any of the premium plans at https://www.alphavantage.co/premium/ to instantly remove all daily rate limits.'}\n",
      "VALUE: 0.5\n",
      "No articles found in the response.\n",
      "API Response: {'Information': 'Thank you for using Alpha Vantage! Our standard API rate limit is 25 requests per day. Please subscribe to any of the premium plans at https://www.alphavantage.co/premium/ to instantly remove all daily rate limits.'}\n",
      "hi 0\n",
      "Today: 2025-01-04\n",
      "Early Date Object: 2025-01-10\n",
      "Difference (days): 6\n"
     ]
    },
    {
     "name": "stderr",
     "output_type": "stream",
     "text": [
      "/Users/DELL/Desktop/black-scholes-project/Black-Scholes-Pricing-Model/black-scholes-frontend/src/app/app.py:318: RuntimeWarning: divide by zero encountered in scalar divide\n",
      "  d1 = (np.log(S / K) + (r + 0.5 * sigma**2) * T) / (sigma * np.sqrt(T))\n"
     ]
    },
    {
     "name": "stdout",
     "output_type": "stream",
     "text": [
      "VALUE: 0.5\n",
      "No articles found in the response.\n",
      "API Response: {'Information': 'Thank you for using Alpha Vantage! Our standard API rate limit is 25 requests per day. Please subscribe to any of the premium plans at https://www.alphavantage.co/premium/ to instantly remove all daily rate limits.'}\n",
      "VALUE: 0.5\n",
      "No articles found in the response.\n",
      "API Response: {'Information': 'Thank you for using Alpha Vantage! Our standard API rate limit is 25 requests per day. Please subscribe to any of the premium plans at https://www.alphavantage.co/premium/ to instantly remove all daily rate limits.'}\n",
      "hi 0\n",
      "Today: 2025-01-04\n",
      "Early Date Object: 2025-01-10\n",
      "Difference (days): 6\n"
     ]
    },
    {
     "name": "stderr",
     "output_type": "stream",
     "text": [
      "/Users/DELL/Desktop/black-scholes-project/Black-Scholes-Pricing-Model/black-scholes-frontend/src/app/app.py:318: RuntimeWarning: divide by zero encountered in scalar divide\n",
      "  d1 = (np.log(S / K) + (r + 0.5 * sigma**2) * T) / (sigma * np.sqrt(T))\n"
     ]
    },
    {
     "name": "stdout",
     "output_type": "stream",
     "text": [
      "VALUE: 0.5\n",
      "No articles found in the response.\n",
      "API Response: {'Information': 'Thank you for using Alpha Vantage! Our standard API rate limit is 25 requests per day. Please subscribe to any of the premium plans at https://www.alphavantage.co/premium/ to instantly remove all daily rate limits.'}\n",
      "VALUE: 0.5\n",
      "No articles found in the response.\n",
      "API Response: {'Note': 'Thank you for using Alpha Vantage! Our standard API rate limit is 25 requests per day. Please visit https://www.alphavantage.co/premium/ if you would like to target a higher API call frequency.'}\n",
      "hi 0\n",
      "Today: 2025-01-04\n",
      "Early Date Object: 2025-01-10\n",
      "Difference (days): 6\n"
     ]
    },
    {
     "name": "stderr",
     "output_type": "stream",
     "text": [
      "/Users/DELL/Desktop/black-scholes-project/Black-Scholes-Pricing-Model/black-scholes-frontend/src/app/app.py:318: RuntimeWarning: divide by zero encountered in scalar divide\n",
      "  d1 = (np.log(S / K) + (r + 0.5 * sigma**2) * T) / (sigma * np.sqrt(T))\n"
     ]
    },
    {
     "name": "stdout",
     "output_type": "stream",
     "text": [
      "VALUE: 0.5\n",
      "No articles found in the response.\n",
      "API Response: {'Note': 'Thank you for using Alpha Vantage! Our standard API rate limit is 25 requests per day. Please visit https://www.alphavantage.co/premium/ if you would like to target a higher API call frequency.'}\n",
      "VALUE: 0.5\n",
      "No articles found in the response.\n",
      "API Response: {'Note': 'Thank you for using Alpha Vantage! Our standard API rate limit is 25 requests per day. Please visit https://www.alphavantage.co/premium/ if you would like to target a higher API call frequency.'}\n",
      "hi 0\n",
      "Today: 2025-01-04\n",
      "Early Date Object: 2025-01-10\n",
      "Difference (days): 6\n"
     ]
    },
    {
     "name": "stderr",
     "output_type": "stream",
     "text": [
      "/Users/DELL/Desktop/black-scholes-project/Black-Scholes-Pricing-Model/black-scholes-frontend/src/app/app.py:318: RuntimeWarning: divide by zero encountered in scalar divide\n",
      "  d1 = (np.log(S / K) + (r + 0.5 * sigma**2) * T) / (sigma * np.sqrt(T))\n"
     ]
    },
    {
     "name": "stdout",
     "output_type": "stream",
     "text": [
      "VALUE: 0.5\n",
      "No articles found in the response.\n",
      "API Response: {'Note': 'Thank you for using Alpha Vantage! Our standard API rate limit is 25 requests per day. Please visit https://www.alphavantage.co/premium/ if you would like to target a higher API call frequency.'}\n",
      "VALUE: 0.5\n",
      "No articles found in the response.\n",
      "API Response: {'Note': 'Thank you for using Alpha Vantage! Our standard API rate limit is 25 requests per day. Please visit https://www.alphavantage.co/premium/ if you would like to target a higher API call frequency.'}\n",
      "hi 0\n",
      "Today: 2025-01-04\n",
      "Early Date Object: 2025-01-10\n",
      "Difference (days): 6\n"
     ]
    },
    {
     "name": "stderr",
     "output_type": "stream",
     "text": [
      "/Users/DELL/Desktop/black-scholes-project/Black-Scholes-Pricing-Model/black-scholes-frontend/src/app/app.py:318: RuntimeWarning: divide by zero encountered in scalar divide\n",
      "  d1 = (np.log(S / K) + (r + 0.5 * sigma**2) * T) / (sigma * np.sqrt(T))\n"
     ]
    },
    {
     "name": "stdout",
     "output_type": "stream",
     "text": [
      "VALUE: 0.5\n",
      "No articles found in the response.\n",
      "API Response: {'Note': 'Thank you for using Alpha Vantage! Our standard API rate limit is 25 requests per day. Please visit https://www.alphavantage.co/premium/ if you would like to target a higher API call frequency.'}\n",
      "VALUE: 0.5\n",
      "No articles found in the response.\n",
      "API Response: {'Note': 'Thank you for using Alpha Vantage! Our standard API rate limit is 25 requests per day. Please visit https://www.alphavantage.co/premium/ if you would like to target a higher API call frequency.'}\n",
      "hi 0\n",
      "Today: 2025-01-04\n",
      "Early Date Object: 2025-01-10\n",
      "Difference (days): 6\n"
     ]
    },
    {
     "name": "stderr",
     "output_type": "stream",
     "text": [
      "/Users/DELL/Desktop/black-scholes-project/Black-Scholes-Pricing-Model/black-scholes-frontend/src/app/app.py:318: RuntimeWarning: divide by zero encountered in scalar divide\n",
      "  d1 = (np.log(S / K) + (r + 0.5 * sigma**2) * T) / (sigma * np.sqrt(T))\n"
     ]
    },
    {
     "name": "stdout",
     "output_type": "stream",
     "text": [
      "VALUE: 0.5\n",
      "No articles found in the response.\n",
      "API Response: {'Note': 'Thank you for using Alpha Vantage! Our standard API rate limit is 25 requests per day. Please visit https://www.alphavantage.co/premium/ if you would like to target a higher API call frequency.'}\n",
      "VALUE: 0.5\n",
      "No articles found in the response.\n",
      "API Response: {'Note': 'Thank you for using Alpha Vantage! Our standard API rate limit is 25 requests per day. Please visit https://www.alphavantage.co/premium/ if you would like to target a higher API call frequency.'}\n",
      "hi 0\n",
      "Today: 2025-01-04\n",
      "Early Date Object: 2025-01-10\n",
      "Difference (days): 6\n"
     ]
    },
    {
     "name": "stderr",
     "output_type": "stream",
     "text": [
      "/Users/DELL/Desktop/black-scholes-project/Black-Scholes-Pricing-Model/black-scholes-frontend/src/app/app.py:318: RuntimeWarning: divide by zero encountered in scalar divide\n",
      "  d1 = (np.log(S / K) + (r + 0.5 * sigma**2) * T) / (sigma * np.sqrt(T))\n"
     ]
    },
    {
     "name": "stdout",
     "output_type": "stream",
     "text": [
      "VALUE: 0.5\n",
      "No articles found in the response.\n",
      "API Response: {'Note': 'Thank you for using Alpha Vantage! Our standard API rate limit is 25 requests per day. Please visit https://www.alphavantage.co/premium/ if you would like to target a higher API call frequency.'}\n",
      "VALUE: 0.5\n",
      "No articles found in the response.\n",
      "API Response: {'Note': 'Thank you for using Alpha Vantage! Our standard API rate limit is 25 requests per day. Please visit https://www.alphavantage.co/premium/ if you would like to target a higher API call frequency.'}\n",
      "hi 0\n",
      "Today: 2025-01-04\n",
      "Early Date Object: 2025-01-10\n",
      "Difference (days): 6\n"
     ]
    },
    {
     "name": "stderr",
     "output_type": "stream",
     "text": [
      "/Users/DELL/Desktop/black-scholes-project/Black-Scholes-Pricing-Model/black-scholes-frontend/src/app/app.py:318: RuntimeWarning: divide by zero encountered in scalar divide\n",
      "  d1 = (np.log(S / K) + (r + 0.5 * sigma**2) * T) / (sigma * np.sqrt(T))\n"
     ]
    },
    {
     "name": "stdout",
     "output_type": "stream",
     "text": [
      "VALUE: 0.5\n",
      "No articles found in the response.\n",
      "API Response: {'Note': 'Thank you for using Alpha Vantage! Our standard API rate limit is 25 requests per day. Please visit https://www.alphavantage.co/premium/ if you would like to target a higher API call frequency.'}\n",
      "VALUE: 0.5\n",
      "No articles found in the response.\n",
      "API Response: {'Note': 'Thank you for using Alpha Vantage! Our standard API rate limit is 25 requests per day. Please visit https://www.alphavantage.co/premium/ if you would like to target a higher API call frequency.'}\n",
      "hi 0\n",
      "Today: 2025-01-04\n",
      "Early Date Object: 2025-01-10\n",
      "Difference (days): 6\n"
     ]
    },
    {
     "name": "stderr",
     "output_type": "stream",
     "text": [
      "/Users/DELL/Desktop/black-scholes-project/Black-Scholes-Pricing-Model/black-scholes-frontend/src/app/app.py:318: RuntimeWarning: divide by zero encountered in scalar divide\n",
      "  d1 = (np.log(S / K) + (r + 0.5 * sigma**2) * T) / (sigma * np.sqrt(T))\n"
     ]
    },
    {
     "name": "stdout",
     "output_type": "stream",
     "text": [
      "VALUE: 0.5\n",
      "No articles found in the response.\n",
      "API Response: {'Note': 'Thank you for using Alpha Vantage! Our standard API rate limit is 25 requests per day. Please visit https://www.alphavantage.co/premium/ if you would like to target a higher API call frequency.'}\n",
      "VALUE: 0.5\n",
      "No articles found in the response.\n",
      "API Response: {'Note': 'Thank you for using Alpha Vantage! Our standard API rate limit is 25 requests per day. Please visit https://www.alphavantage.co/premium/ if you would like to target a higher API call frequency.'}\n",
      "hi 0\n",
      "Today: 2025-01-04\n",
      "Early Date Object: 2025-01-10\n",
      "Difference (days): 6\n"
     ]
    },
    {
     "name": "stderr",
     "output_type": "stream",
     "text": [
      "/Users/DELL/Desktop/black-scholes-project/Black-Scholes-Pricing-Model/black-scholes-frontend/src/app/app.py:318: RuntimeWarning: divide by zero encountered in scalar divide\n",
      "  d1 = (np.log(S / K) + (r + 0.5 * sigma**2) * T) / (sigma * np.sqrt(T))\n"
     ]
    },
    {
     "name": "stdout",
     "output_type": "stream",
     "text": [
      "VALUE: 0.5\n",
      "No articles found in the response.\n",
      "API Response: {'Note': 'Thank you for using Alpha Vantage! Our standard API rate limit is 25 requests per day. Please visit https://www.alphavantage.co/premium/ if you would like to target a higher API call frequency.'}\n",
      "VALUE: 0.5\n",
      "No articles found in the response.\n",
      "API Response: {'Note': 'Thank you for using Alpha Vantage! Our standard API rate limit is 25 requests per day. Please visit https://www.alphavantage.co/premium/ if you would like to target a higher API call frequency.'}\n",
      "hi 0\n",
      "Today: 2025-01-04\n",
      "Early Date Object: 2025-01-10\n",
      "Difference (days): 6\n"
     ]
    },
    {
     "name": "stderr",
     "output_type": "stream",
     "text": [
      "/Users/DELL/Desktop/black-scholes-project/Black-Scholes-Pricing-Model/black-scholes-frontend/src/app/app.py:318: RuntimeWarning: divide by zero encountered in scalar divide\n",
      "  d1 = (np.log(S / K) + (r + 0.5 * sigma**2) * T) / (sigma * np.sqrt(T))\n"
     ]
    },
    {
     "name": "stdout",
     "output_type": "stream",
     "text": [
      "VALUE: 0.5\n",
      "No articles found in the response.\n",
      "API Response: {'Note': 'Thank you for using Alpha Vantage! Our standard API rate limit is 25 requests per day. Please visit https://www.alphavantage.co/premium/ if you would like to target a higher API call frequency.'}\n",
      "VALUE: 0.5\n",
      "No articles found in the response.\n",
      "API Response: {'Note': 'Thank you for using Alpha Vantage! Our standard API rate limit is 25 requests per day. Please visit https://www.alphavantage.co/premium/ if you would like to target a higher API call frequency.'}\n",
      "hi 0\n",
      "Today: 2025-01-04\n",
      "Early Date Object: 2025-01-10\n",
      "Difference (days): 6\n"
     ]
    },
    {
     "name": "stderr",
     "output_type": "stream",
     "text": [
      "/Users/DELL/Desktop/black-scholes-project/Black-Scholes-Pricing-Model/black-scholes-frontend/src/app/app.py:318: RuntimeWarning: divide by zero encountered in scalar divide\n",
      "  d1 = (np.log(S / K) + (r + 0.5 * sigma**2) * T) / (sigma * np.sqrt(T))\n"
     ]
    },
    {
     "name": "stdout",
     "output_type": "stream",
     "text": [
      "VALUE: 0.5\n",
      "No articles found in the response.\n",
      "API Response: {'Note': 'Thank you for using Alpha Vantage! Our standard API rate limit is 25 requests per day. Please visit https://www.alphavantage.co/premium/ if you would like to target a higher API call frequency.'}\n",
      "VALUE: 0.5\n",
      "No articles found in the response.\n",
      "API Response: {'Note': 'Thank you for using Alpha Vantage! Our standard API rate limit is 25 requests per day. Please visit https://www.alphavantage.co/premium/ if you would like to target a higher API call frequency.'}\n",
      "hi 0\n",
      "Today: 2025-01-04\n",
      "Early Date Object: 2025-01-10\n",
      "Difference (days): 6\n"
     ]
    },
    {
     "name": "stderr",
     "output_type": "stream",
     "text": [
      "/Users/DELL/Desktop/black-scholes-project/Black-Scholes-Pricing-Model/black-scholes-frontend/src/app/app.py:318: RuntimeWarning: divide by zero encountered in scalar divide\n",
      "  d1 = (np.log(S / K) + (r + 0.5 * sigma**2) * T) / (sigma * np.sqrt(T))\n"
     ]
    },
    {
     "name": "stdout",
     "output_type": "stream",
     "text": [
      "VALUE: 0.5\n",
      "No articles found in the response.\n",
      "API Response: {'Note': 'Thank you for using Alpha Vantage! Our standard API rate limit is 25 requests per day. Please visit https://www.alphavantage.co/premium/ if you would like to target a higher API call frequency.'}\n",
      "VALUE: 0.5\n",
      "No articles found in the response.\n",
      "API Response: {'Note': 'Thank you for using Alpha Vantage! Our standard API rate limit is 25 requests per day. Please visit https://www.alphavantage.co/premium/ if you would like to target a higher API call frequency.'}\n",
      "hi 0\n",
      "Today: 2025-01-04\n",
      "Early Date Object: 2025-01-10\n",
      "Difference (days): 6\n"
     ]
    },
    {
     "name": "stderr",
     "output_type": "stream",
     "text": [
      "/Users/DELL/Desktop/black-scholes-project/Black-Scholes-Pricing-Model/black-scholes-frontend/src/app/app.py:318: RuntimeWarning: divide by zero encountered in scalar divide\n",
      "  d1 = (np.log(S / K) + (r + 0.5 * sigma**2) * T) / (sigma * np.sqrt(T))\n"
     ]
    },
    {
     "name": "stdout",
     "output_type": "stream",
     "text": [
      "VALUE: 0.5\n",
      "No articles found in the response.\n",
      "API Response: {'Note': 'Thank you for using Alpha Vantage! Our standard API rate limit is 25 requests per day. Please visit https://www.alphavantage.co/premium/ if you would like to target a higher API call frequency.'}\n",
      "VALUE: 0.5\n",
      "No articles found in the response.\n",
      "API Response: {'Note': 'Thank you for using Alpha Vantage! Our standard API rate limit is 25 requests per day. Please visit https://www.alphavantage.co/premium/ if you would like to target a higher API call frequency.'}\n",
      "hi 0\n",
      "Today: 2025-01-04\n",
      "Early Date Object: 2025-01-10\n",
      "Difference (days): 6\n"
     ]
    },
    {
     "name": "stderr",
     "output_type": "stream",
     "text": [
      "/Users/DELL/Desktop/black-scholes-project/Black-Scholes-Pricing-Model/black-scholes-frontend/src/app/app.py:318: RuntimeWarning: divide by zero encountered in scalar divide\n",
      "  d1 = (np.log(S / K) + (r + 0.5 * sigma**2) * T) / (sigma * np.sqrt(T))\n"
     ]
    },
    {
     "name": "stdout",
     "output_type": "stream",
     "text": [
      "VALUE: 0.5\n",
      "No articles found in the response.\n",
      "API Response: {'Note': 'Thank you for using Alpha Vantage! Our standard API rate limit is 25 requests per day. Please visit https://www.alphavantage.co/premium/ if you would like to target a higher API call frequency.'}\n",
      "VALUE: 0.5\n",
      "No articles found in the response.\n",
      "API Response: {'Note': 'Thank you for using Alpha Vantage! Our standard API rate limit is 25 requests per day. Please visit https://www.alphavantage.co/premium/ if you would like to target a higher API call frequency.'}\n",
      "hi 0\n",
      "Today: 2025-01-04\n",
      "Early Date Object: 2025-01-10\n",
      "Difference (days): 6\n"
     ]
    },
    {
     "name": "stderr",
     "output_type": "stream",
     "text": [
      "/Users/DELL/Desktop/black-scholes-project/Black-Scholes-Pricing-Model/black-scholes-frontend/src/app/app.py:318: RuntimeWarning: divide by zero encountered in scalar divide\n",
      "  d1 = (np.log(S / K) + (r + 0.5 * sigma**2) * T) / (sigma * np.sqrt(T))\n"
     ]
    },
    {
     "name": "stdout",
     "output_type": "stream",
     "text": [
      "VALUE: 0.5\n",
      "No articles found in the response.\n",
      "API Response: {'Note': 'Thank you for using Alpha Vantage! Our standard API rate limit is 25 requests per day. Please visit https://www.alphavantage.co/premium/ if you would like to target a higher API call frequency.'}\n",
      "VALUE: 0.5\n",
      "No articles found in the response.\n",
      "API Response: {'Note': 'Thank you for using Alpha Vantage! Our standard API rate limit is 25 requests per day. Please visit https://www.alphavantage.co/premium/ if you would like to target a higher API call frequency.'}\n",
      "hi 0\n",
      "Today: 2025-01-04\n",
      "Early Date Object: 2025-01-10\n",
      "Difference (days): 6\n"
     ]
    },
    {
     "name": "stderr",
     "output_type": "stream",
     "text": [
      "/Users/DELL/Desktop/black-scholes-project/Black-Scholes-Pricing-Model/black-scholes-frontend/src/app/app.py:318: RuntimeWarning: divide by zero encountered in scalar divide\n",
      "  d1 = (np.log(S / K) + (r + 0.5 * sigma**2) * T) / (sigma * np.sqrt(T))\n"
     ]
    },
    {
     "name": "stdout",
     "output_type": "stream",
     "text": [
      "VALUE: 0.5\n",
      "No articles found in the response.\n",
      "API Response: {'Note': 'Thank you for using Alpha Vantage! Our standard API rate limit is 25 requests per day. Please visit https://www.alphavantage.co/premium/ if you would like to target a higher API call frequency.'}\n",
      "VALUE: 0.5\n",
      "No articles found in the response.\n",
      "API Response: {'Note': 'Thank you for using Alpha Vantage! Our standard API rate limit is 25 requests per day. Please visit https://www.alphavantage.co/premium/ if you would like to target a higher API call frequency.'}\n",
      "hi 0\n",
      "Today: 2025-01-04\n",
      "Early Date Object: 2025-01-10\n",
      "Difference (days): 6\n"
     ]
    },
    {
     "name": "stderr",
     "output_type": "stream",
     "text": [
      "/Users/DELL/Desktop/black-scholes-project/Black-Scholes-Pricing-Model/black-scholes-frontend/src/app/app.py:318: RuntimeWarning: divide by zero encountered in scalar divide\n",
      "  d1 = (np.log(S / K) + (r + 0.5 * sigma**2) * T) / (sigma * np.sqrt(T))\n"
     ]
    },
    {
     "name": "stdout",
     "output_type": "stream",
     "text": [
      "VALUE: 0.5\n",
      "No articles found in the response.\n",
      "API Response: {'Note': 'Thank you for using Alpha Vantage! Our standard API rate limit is 25 requests per day. Please visit https://www.alphavantage.co/premium/ if you would like to target a higher API call frequency.'}\n",
      "VALUE: 0.5\n",
      "No articles found in the response.\n",
      "API Response: {'Note': 'Thank you for using Alpha Vantage! Our standard API rate limit is 25 requests per day. Please visit https://www.alphavantage.co/premium/ if you would like to target a higher API call frequency.'}\n",
      "hi 0\n",
      "Today: 2025-01-04\n",
      "Early Date Object: 2025-01-10\n",
      "Difference (days): 6\n"
     ]
    },
    {
     "name": "stderr",
     "output_type": "stream",
     "text": [
      "/Users/DELL/Desktop/black-scholes-project/Black-Scholes-Pricing-Model/black-scholes-frontend/src/app/app.py:318: RuntimeWarning: divide by zero encountered in scalar divide\n",
      "  d1 = (np.log(S / K) + (r + 0.5 * sigma**2) * T) / (sigma * np.sqrt(T))\n"
     ]
    },
    {
     "name": "stdout",
     "output_type": "stream",
     "text": [
      "VALUE: 0.5\n",
      "No articles found in the response.\n",
      "API Response: {'Note': 'Thank you for using Alpha Vantage! Our standard API rate limit is 25 requests per day. Please visit https://www.alphavantage.co/premium/ if you would like to target a higher API call frequency.'}\n",
      "VALUE: 0.5\n",
      "No articles found in the response.\n",
      "API Response: {'Note': 'Thank you for using Alpha Vantage! Our standard API rate limit is 25 requests per day. Please visit https://www.alphavantage.co/premium/ if you would like to target a higher API call frequency.'}\n",
      "hi 0\n",
      "Today: 2025-01-04\n",
      "Early Date Object: 2025-01-10\n",
      "Difference (days): 6\n"
     ]
    },
    {
     "name": "stderr",
     "output_type": "stream",
     "text": [
      "/Users/DELL/Desktop/black-scholes-project/Black-Scholes-Pricing-Model/black-scholes-frontend/src/app/app.py:318: RuntimeWarning: divide by zero encountered in scalar divide\n",
      "  d1 = (np.log(S / K) + (r + 0.5 * sigma**2) * T) / (sigma * np.sqrt(T))\n"
     ]
    },
    {
     "name": "stdout",
     "output_type": "stream",
     "text": [
      "VALUE: 0.5\n",
      "No articles found in the response.\n",
      "API Response: {'Note': 'Thank you for using Alpha Vantage! Our standard API rate limit is 25 requests per day. Please visit https://www.alphavantage.co/premium/ if you would like to target a higher API call frequency.'}\n",
      "VALUE: 0.5\n",
      "No articles found in the response.\n",
      "API Response: {'Note': 'Thank you for using Alpha Vantage! Our standard API rate limit is 25 requests per day. Please visit https://www.alphavantage.co/premium/ if you would like to target a higher API call frequency.'}\n",
      "hi 0\n",
      "Today: 2025-01-04\n",
      "Early Date Object: 2025-01-10\n",
      "Difference (days): 6\n"
     ]
    },
    {
     "name": "stderr",
     "output_type": "stream",
     "text": [
      "/Users/DELL/Desktop/black-scholes-project/Black-Scholes-Pricing-Model/black-scholes-frontend/src/app/app.py:318: RuntimeWarning: divide by zero encountered in scalar divide\n",
      "  d1 = (np.log(S / K) + (r + 0.5 * sigma**2) * T) / (sigma * np.sqrt(T))\n"
     ]
    },
    {
     "name": "stdout",
     "output_type": "stream",
     "text": [
      "VALUE: 0.5\n",
      "No articles found in the response.\n",
      "API Response: {'Note': 'Thank you for using Alpha Vantage! Our standard API rate limit is 25 requests per day. Please visit https://www.alphavantage.co/premium/ if you would like to target a higher API call frequency.'}\n",
      "VALUE: 0.5\n",
      "No articles found in the response.\n",
      "API Response: {'Note': 'Thank you for using Alpha Vantage! Our standard API rate limit is 25 requests per day. Please visit https://www.alphavantage.co/premium/ if you would like to target a higher API call frequency.'}\n",
      "hi 0\n",
      "Today: 2025-01-04\n",
      "Early Date Object: 2025-01-10\n",
      "Difference (days): 6\n"
     ]
    },
    {
     "name": "stderr",
     "output_type": "stream",
     "text": [
      "/Users/DELL/Desktop/black-scholes-project/Black-Scholes-Pricing-Model/black-scholes-frontend/src/app/app.py:318: RuntimeWarning: divide by zero encountered in scalar divide\n",
      "  d1 = (np.log(S / K) + (r + 0.5 * sigma**2) * T) / (sigma * np.sqrt(T))\n"
     ]
    },
    {
     "name": "stdout",
     "output_type": "stream",
     "text": [
      "VALUE: 0.5\n",
      "No articles found in the response.\n",
      "API Response: {'Note': 'Thank you for using Alpha Vantage! Our standard API rate limit is 25 requests per day. Please visit https://www.alphavantage.co/premium/ if you would like to target a higher API call frequency.'}\n",
      "VALUE: 0.5\n",
      "No articles found in the response.\n",
      "API Response: {'Note': 'Thank you for using Alpha Vantage! Our standard API rate limit is 25 requests per day. Please visit https://www.alphavantage.co/premium/ if you would like to target a higher API call frequency.'}\n",
      "hi 0\n",
      "Today: 2025-01-04\n",
      "Early Date Object: 2025-01-10\n",
      "Difference (days): 6\n"
     ]
    },
    {
     "name": "stderr",
     "output_type": "stream",
     "text": [
      "/Users/DELL/Desktop/black-scholes-project/Black-Scholes-Pricing-Model/black-scholes-frontend/src/app/app.py:318: RuntimeWarning: divide by zero encountered in scalar divide\n",
      "  d1 = (np.log(S / K) + (r + 0.5 * sigma**2) * T) / (sigma * np.sqrt(T))\n"
     ]
    },
    {
     "name": "stdout",
     "output_type": "stream",
     "text": [
      "VALUE: 0.5\n",
      "No articles found in the response.\n",
      "API Response: {'Note': 'Thank you for using Alpha Vantage! Our standard API rate limit is 25 requests per day. Please visit https://www.alphavantage.co/premium/ if you would like to target a higher API call frequency.'}\n",
      "VALUE: 0.5\n",
      "No articles found in the response.\n",
      "API Response: {'Note': 'Thank you for using Alpha Vantage! Our standard API rate limit is 25 requests per day. Please visit https://www.alphavantage.co/premium/ if you would like to target a higher API call frequency.'}\n",
      "hi 0\n",
      "Today: 2025-01-04\n",
      "Early Date Object: 2025-01-10\n",
      "Difference (days): 6\n"
     ]
    },
    {
     "name": "stderr",
     "output_type": "stream",
     "text": [
      "/Users/DELL/Desktop/black-scholes-project/Black-Scholes-Pricing-Model/black-scholes-frontend/src/app/app.py:318: RuntimeWarning: divide by zero encountered in scalar divide\n",
      "  d1 = (np.log(S / K) + (r + 0.5 * sigma**2) * T) / (sigma * np.sqrt(T))\n"
     ]
    },
    {
     "name": "stdout",
     "output_type": "stream",
     "text": [
      "VALUE: 0.5\n",
      "No articles found in the response.\n",
      "API Response: {'Note': 'Thank you for using Alpha Vantage! Our standard API rate limit is 25 requests per day. Please visit https://www.alphavantage.co/premium/ if you would like to target a higher API call frequency.'}\n",
      "VALUE: 0.5\n",
      "No articles found in the response.\n",
      "API Response: {'Note': 'Thank you for using Alpha Vantage! Our standard API rate limit is 25 requests per day. Please visit https://www.alphavantage.co/premium/ if you would like to target a higher API call frequency.'}\n",
      "hi 0\n",
      "Today: 2025-01-04\n",
      "Early Date Object: 2025-01-10\n",
      "Difference (days): 6\n"
     ]
    },
    {
     "name": "stderr",
     "output_type": "stream",
     "text": [
      "/Users/DELL/Desktop/black-scholes-project/Black-Scholes-Pricing-Model/black-scholes-frontend/src/app/app.py:318: RuntimeWarning: divide by zero encountered in scalar divide\n",
      "  d1 = (np.log(S / K) + (r + 0.5 * sigma**2) * T) / (sigma * np.sqrt(T))\n"
     ]
    },
    {
     "name": "stdout",
     "output_type": "stream",
     "text": [
      "VALUE: 0.5\n",
      "No articles found in the response.\n",
      "API Response: {'Note': 'Thank you for using Alpha Vantage! Our standard API rate limit is 25 requests per day. Please visit https://www.alphavantage.co/premium/ if you would like to target a higher API call frequency.'}\n",
      "VALUE: 0.5\n",
      "No articles found in the response.\n",
      "API Response: {'Note': 'Thank you for using Alpha Vantage! Our standard API rate limit is 25 requests per day. Please visit https://www.alphavantage.co/premium/ if you would like to target a higher API call frequency.'}\n",
      "hi 0\n",
      "Today: 2025-01-04\n",
      "Early Date Object: 2025-01-10\n",
      "Difference (days): 6\n"
     ]
    },
    {
     "name": "stderr",
     "output_type": "stream",
     "text": [
      "/Users/DELL/Desktop/black-scholes-project/Black-Scholes-Pricing-Model/black-scholes-frontend/src/app/app.py:318: RuntimeWarning: divide by zero encountered in scalar divide\n",
      "  d1 = (np.log(S / K) + (r + 0.5 * sigma**2) * T) / (sigma * np.sqrt(T))\n"
     ]
    },
    {
     "name": "stdout",
     "output_type": "stream",
     "text": [
      "VALUE: 0.5\n",
      "No articles found in the response.\n",
      "API Response: {'Note': 'Thank you for using Alpha Vantage! Our standard API rate limit is 25 requests per day. Please visit https://www.alphavantage.co/premium/ if you would like to target a higher API call frequency.'}\n",
      "VALUE: 0.5\n",
      "No articles found in the response.\n",
      "API Response: {'Note': 'Thank you for using Alpha Vantage! Our standard API rate limit is 25 requests per day. Please visit https://www.alphavantage.co/premium/ if you would like to target a higher API call frequency.'}\n",
      "hi 0\n",
      "Today: 2025-01-04\n",
      "Early Date Object: 2025-01-10\n",
      "Difference (days): 6\n"
     ]
    },
    {
     "name": "stderr",
     "output_type": "stream",
     "text": [
      "/Users/DELL/Desktop/black-scholes-project/Black-Scholes-Pricing-Model/black-scholes-frontend/src/app/app.py:318: RuntimeWarning: divide by zero encountered in scalar divide\n",
      "  d1 = (np.log(S / K) + (r + 0.5 * sigma**2) * T) / (sigma * np.sqrt(T))\n"
     ]
    },
    {
     "name": "stdout",
     "output_type": "stream",
     "text": [
      "VALUE: 0.5\n",
      "No articles found in the response.\n",
      "API Response: {'Note': 'Thank you for using Alpha Vantage! Our standard API rate limit is 25 requests per day. Please visit https://www.alphavantage.co/premium/ if you would like to target a higher API call frequency.'}\n",
      "VALUE: 0.5\n",
      "No articles found in the response.\n",
      "API Response: {'Note': 'Thank you for using Alpha Vantage! Our standard API rate limit is 25 requests per day. Please visit https://www.alphavantage.co/premium/ if you would like to target a higher API call frequency.'}\n",
      "hi 0\n",
      "Today: 2025-01-04\n",
      "Early Date Object: 2025-01-10\n",
      "Difference (days): 6\n"
     ]
    },
    {
     "name": "stderr",
     "output_type": "stream",
     "text": [
      "/Users/DELL/Desktop/black-scholes-project/Black-Scholes-Pricing-Model/black-scholes-frontend/src/app/app.py:318: RuntimeWarning: divide by zero encountered in scalar divide\n",
      "  d1 = (np.log(S / K) + (r + 0.5 * sigma**2) * T) / (sigma * np.sqrt(T))\n"
     ]
    },
    {
     "name": "stdout",
     "output_type": "stream",
     "text": [
      "VALUE: 0.5\n",
      "No articles found in the response.\n",
      "API Response: {'Note': 'Thank you for using Alpha Vantage! Our standard API rate limit is 25 requests per day. Please visit https://www.alphavantage.co/premium/ if you would like to target a higher API call frequency.'}\n",
      "VALUE: 0.5\n",
      "No articles found in the response.\n",
      "API Response: {'Note': 'Thank you for using Alpha Vantage! Our standard API rate limit is 25 requests per day. Please visit https://www.alphavantage.co/premium/ if you would like to target a higher API call frequency.'}\n",
      "hi 0\n",
      "Today: 2025-01-04\n",
      "Early Date Object: 2025-01-17\n",
      "Difference (days): 13\n"
     ]
    },
    {
     "name": "stderr",
     "output_type": "stream",
     "text": [
      "/Users/DELL/Desktop/black-scholes-project/Black-Scholes-Pricing-Model/black-scholes-frontend/src/app/app.py:318: RuntimeWarning: divide by zero encountered in scalar divide\n",
      "  d1 = (np.log(S / K) + (r + 0.5 * sigma**2) * T) / (sigma * np.sqrt(T))\n"
     ]
    },
    {
     "name": "stdout",
     "output_type": "stream",
     "text": [
      "VALUE: 0.5\n",
      "No articles found in the response.\n",
      "API Response: {'Note': 'Thank you for using Alpha Vantage! Our standard API rate limit is 25 requests per day. Please visit https://www.alphavantage.co/premium/ if you would like to target a higher API call frequency.'}\n",
      "VALUE: 0.5\n",
      "No articles found in the response.\n",
      "API Response: {'Note': 'Thank you for using Alpha Vantage! Our standard API rate limit is 25 requests per day. Please visit https://www.alphavantage.co/premium/ if you would like to target a higher API call frequency.'}\n",
      "hi 0\n",
      "Today: 2025-01-04\n",
      "Early Date Object: 2025-01-10\n",
      "Difference (days): 6\n"
     ]
    },
    {
     "name": "stderr",
     "output_type": "stream",
     "text": [
      "/Users/DELL/Desktop/black-scholes-project/Black-Scholes-Pricing-Model/black-scholes-frontend/src/app/app.py:318: RuntimeWarning: divide by zero encountered in scalar divide\n",
      "  d1 = (np.log(S / K) + (r + 0.5 * sigma**2) * T) / (sigma * np.sqrt(T))\n"
     ]
    },
    {
     "name": "stdout",
     "output_type": "stream",
     "text": [
      "VALUE: 0.5\n",
      "No articles found in the response.\n",
      "API Response: {'Note': 'Thank you for using Alpha Vantage! Our standard API rate limit is 25 requests per day. Please visit https://www.alphavantage.co/premium/ if you would like to target a higher API call frequency.'}\n",
      "VALUE: 0.5\n",
      "No articles found in the response.\n",
      "API Response: {'Note': 'Thank you for using Alpha Vantage! Our standard API rate limit is 25 requests per day. Please visit https://www.alphavantage.co/premium/ if you would like to target a higher API call frequency.'}\n",
      "hi 0\n",
      "Today: 2025-01-04\n",
      "Early Date Object: 2025-01-10\n",
      "Difference (days): 6\n"
     ]
    },
    {
     "name": "stderr",
     "output_type": "stream",
     "text": [
      "/Users/DELL/Desktop/black-scholes-project/Black-Scholes-Pricing-Model/black-scholes-frontend/src/app/app.py:318: RuntimeWarning: divide by zero encountered in scalar divide\n",
      "  d1 = (np.log(S / K) + (r + 0.5 * sigma**2) * T) / (sigma * np.sqrt(T))\n"
     ]
    },
    {
     "name": "stdout",
     "output_type": "stream",
     "text": [
      "VALUE: 0.5\n",
      "No articles found in the response.\n",
      "API Response: {'Note': 'Thank you for using Alpha Vantage! Our standard API rate limit is 25 requests per day. Please visit https://www.alphavantage.co/premium/ if you would like to target a higher API call frequency.'}\n",
      "VALUE: 0.5\n",
      "No articles found in the response.\n",
      "API Response: {'Note': 'Thank you for using Alpha Vantage! Our standard API rate limit is 25 requests per day. Please visit https://www.alphavantage.co/premium/ if you would like to target a higher API call frequency.'}\n",
      "hi 0\n",
      "Today: 2025-01-04\n",
      "Early Date Object: 2025-01-10\n",
      "Difference (days): 6\n"
     ]
    },
    {
     "name": "stderr",
     "output_type": "stream",
     "text": [
      "/Users/DELL/Desktop/black-scholes-project/Black-Scholes-Pricing-Model/black-scholes-frontend/src/app/app.py:318: RuntimeWarning: divide by zero encountered in scalar divide\n",
      "  d1 = (np.log(S / K) + (r + 0.5 * sigma**2) * T) / (sigma * np.sqrt(T))\n"
     ]
    },
    {
     "name": "stdout",
     "output_type": "stream",
     "text": [
      "VALUE: 0.5\n",
      "No articles found in the response.\n",
      "API Response: {'Note': 'Thank you for using Alpha Vantage! Our standard API rate limit is 25 requests per day. Please visit https://www.alphavantage.co/premium/ if you would like to target a higher API call frequency.'}\n",
      "VALUE: 0.5\n",
      "No articles found in the response.\n",
      "API Response: {'Note': 'Thank you for using Alpha Vantage! Our standard API rate limit is 25 requests per day. Please visit https://www.alphavantage.co/premium/ if you would like to target a higher API call frequency.'}\n",
      "hi 0\n",
      "Today: 2025-01-04\n",
      "Early Date Object: 2025-01-10\n",
      "Difference (days): 6\n"
     ]
    },
    {
     "name": "stderr",
     "output_type": "stream",
     "text": [
      "/Users/DELL/Desktop/black-scholes-project/Black-Scholes-Pricing-Model/black-scholes-frontend/src/app/app.py:318: RuntimeWarning: divide by zero encountered in scalar divide\n",
      "  d1 = (np.log(S / K) + (r + 0.5 * sigma**2) * T) / (sigma * np.sqrt(T))\n"
     ]
    },
    {
     "name": "stdout",
     "output_type": "stream",
     "text": [
      "VALUE: 0.5\n",
      "No articles found in the response.\n",
      "API Response: {'Note': 'Thank you for using Alpha Vantage! Our standard API rate limit is 25 requests per day. Please visit https://www.alphavantage.co/premium/ if you would like to target a higher API call frequency.'}\n",
      "VALUE: 0.5\n",
      "No articles found in the response.\n",
      "API Response: {'Note': 'Thank you for using Alpha Vantage! Our standard API rate limit is 25 requests per day. Please visit https://www.alphavantage.co/premium/ if you would like to target a higher API call frequency.'}\n",
      "hi 0\n",
      "Today: 2025-01-04\n",
      "Early Date Object: 2025-01-10\n",
      "Difference (days): 6\n"
     ]
    },
    {
     "name": "stderr",
     "output_type": "stream",
     "text": [
      "/Users/DELL/Desktop/black-scholes-project/Black-Scholes-Pricing-Model/black-scholes-frontend/src/app/app.py:318: RuntimeWarning: divide by zero encountered in scalar divide\n",
      "  d1 = (np.log(S / K) + (r + 0.5 * sigma**2) * T) / (sigma * np.sqrt(T))\n"
     ]
    },
    {
     "name": "stdout",
     "output_type": "stream",
     "text": [
      "VALUE: 0.5\n",
      "No articles found in the response.\n",
      "API Response: {'Note': 'Thank you for using Alpha Vantage! Our standard API rate limit is 25 requests per day. Please visit https://www.alphavantage.co/premium/ if you would like to target a higher API call frequency.'}\n",
      "VALUE: 0.5\n",
      "No articles found in the response.\n",
      "API Response: {'Note': 'Thank you for using Alpha Vantage! Our standard API rate limit is 25 requests per day. Please visit https://www.alphavantage.co/premium/ if you would like to target a higher API call frequency.'}\n",
      "hi 0\n",
      "Today: 2025-01-04\n",
      "Early Date Object: 2025-01-10\n",
      "Difference (days): 6\n"
     ]
    },
    {
     "name": "stderr",
     "output_type": "stream",
     "text": [
      "/Users/DELL/Desktop/black-scholes-project/Black-Scholes-Pricing-Model/black-scholes-frontend/src/app/app.py:318: RuntimeWarning: divide by zero encountered in scalar divide\n",
      "  d1 = (np.log(S / K) + (r + 0.5 * sigma**2) * T) / (sigma * np.sqrt(T))\n"
     ]
    },
    {
     "name": "stdout",
     "output_type": "stream",
     "text": [
      "VALUE: 0.5\n",
      "No articles found in the response.\n",
      "API Response: {'Note': 'Thank you for using Alpha Vantage! Our standard API rate limit is 25 requests per day. Please visit https://www.alphavantage.co/premium/ if you would like to target a higher API call frequency.'}\n",
      "VALUE: 0.5\n",
      "No articles found in the response.\n",
      "API Response: {'Note': 'Thank you for using Alpha Vantage! Our standard API rate limit is 25 requests per day. Please visit https://www.alphavantage.co/premium/ if you would like to target a higher API call frequency.'}\n",
      "hi 0\n",
      "Today: 2025-01-04\n",
      "Early Date Object: 2025-01-10\n",
      "Difference (days): 6\n"
     ]
    },
    {
     "name": "stderr",
     "output_type": "stream",
     "text": [
      "/Users/DELL/Desktop/black-scholes-project/Black-Scholes-Pricing-Model/black-scholes-frontend/src/app/app.py:318: RuntimeWarning: divide by zero encountered in scalar divide\n",
      "  d1 = (np.log(S / K) + (r + 0.5 * sigma**2) * T) / (sigma * np.sqrt(T))\n"
     ]
    },
    {
     "name": "stdout",
     "output_type": "stream",
     "text": [
      "VALUE: 0.5\n",
      "No articles found in the response.\n",
      "API Response: {'Note': 'Thank you for using Alpha Vantage! Our standard API rate limit is 25 requests per day. Please visit https://www.alphavantage.co/premium/ if you would like to target a higher API call frequency.'}\n",
      "VALUE: 0.5\n",
      "No articles found in the response.\n",
      "API Response: {'Note': 'Thank you for using Alpha Vantage! Our standard API rate limit is 25 requests per day. Please visit https://www.alphavantage.co/premium/ if you would like to target a higher API call frequency.'}\n",
      "hi 0\n",
      "Today: 2025-01-04\n",
      "Early Date Object: 2025-01-10\n",
      "Difference (days): 6\n"
     ]
    },
    {
     "name": "stderr",
     "output_type": "stream",
     "text": [
      "/Users/DELL/Desktop/black-scholes-project/Black-Scholes-Pricing-Model/black-scholes-frontend/src/app/app.py:318: RuntimeWarning: divide by zero encountered in scalar divide\n",
      "  d1 = (np.log(S / K) + (r + 0.5 * sigma**2) * T) / (sigma * np.sqrt(T))\n"
     ]
    },
    {
     "name": "stdout",
     "output_type": "stream",
     "text": [
      "VALUE: 0.5\n",
      "No articles found in the response.\n",
      "API Response: {'Note': 'Thank you for using Alpha Vantage! Our standard API rate limit is 25 requests per day. Please visit https://www.alphavantage.co/premium/ if you would like to target a higher API call frequency.'}\n",
      "VALUE: 0.5\n",
      "No articles found in the response.\n",
      "API Response: {'Note': 'Thank you for using Alpha Vantage! Our standard API rate limit is 25 requests per day. Please visit https://www.alphavantage.co/premium/ if you would like to target a higher API call frequency.'}\n",
      "hi 0\n",
      "Today: 2025-01-04\n",
      "Early Date Object: 2025-01-10\n",
      "Difference (days): 6\n"
     ]
    },
    {
     "name": "stderr",
     "output_type": "stream",
     "text": [
      "/Users/DELL/Desktop/black-scholes-project/Black-Scholes-Pricing-Model/black-scholes-frontend/src/app/app.py:318: RuntimeWarning: divide by zero encountered in scalar divide\n",
      "  d1 = (np.log(S / K) + (r + 0.5 * sigma**2) * T) / (sigma * np.sqrt(T))\n"
     ]
    },
    {
     "name": "stdout",
     "output_type": "stream",
     "text": [
      "VALUE: 0.5\n",
      "No articles found in the response.\n",
      "API Response: {'Note': 'Thank you for using Alpha Vantage! Our standard API rate limit is 25 requests per day. Please visit https://www.alphavantage.co/premium/ if you would like to target a higher API call frequency.'}\n",
      "VALUE: 0.5\n",
      "No articles found in the response.\n",
      "API Response: {'Note': 'Thank you for using Alpha Vantage! Our standard API rate limit is 25 requests per day. Please visit https://www.alphavantage.co/premium/ if you would like to target a higher API call frequency.'}\n",
      "hi 0\n",
      "Today: 2025-01-04\n",
      "Early Date Object: 2025-01-10\n",
      "Difference (days): 6\n"
     ]
    },
    {
     "name": "stderr",
     "output_type": "stream",
     "text": [
      "/Users/DELL/Desktop/black-scholes-project/Black-Scholes-Pricing-Model/black-scholes-frontend/src/app/app.py:318: RuntimeWarning: divide by zero encountered in scalar divide\n",
      "  d1 = (np.log(S / K) + (r + 0.5 * sigma**2) * T) / (sigma * np.sqrt(T))\n"
     ]
    },
    {
     "name": "stdout",
     "output_type": "stream",
     "text": [
      "VALUE: 0.5\n",
      "No articles found in the response.\n",
      "API Response: {'Note': 'Thank you for using Alpha Vantage! Our standard API rate limit is 25 requests per day. Please visit https://www.alphavantage.co/premium/ if you would like to target a higher API call frequency.'}\n",
      "VALUE: 0.5\n",
      "No articles found in the response.\n",
      "API Response: {'Note': 'Thank you for using Alpha Vantage! Our standard API rate limit is 25 requests per day. Please visit https://www.alphavantage.co/premium/ if you would like to target a higher API call frequency.'}\n",
      "hi 0\n",
      "Today: 2025-01-04\n",
      "Early Date Object: 2025-01-10\n",
      "Difference (days): 6\n"
     ]
    },
    {
     "name": "stderr",
     "output_type": "stream",
     "text": [
      "/Users/DELL/Desktop/black-scholes-project/Black-Scholes-Pricing-Model/black-scholes-frontend/src/app/app.py:318: RuntimeWarning: divide by zero encountered in scalar divide\n",
      "  d1 = (np.log(S / K) + (r + 0.5 * sigma**2) * T) / (sigma * np.sqrt(T))\n"
     ]
    },
    {
     "name": "stdout",
     "output_type": "stream",
     "text": [
      "VALUE: 0.5\n",
      "No articles found in the response.\n",
      "API Response: {'Note': 'Thank you for using Alpha Vantage! Our standard API rate limit is 25 requests per day. Please visit https://www.alphavantage.co/premium/ if you would like to target a higher API call frequency.'}\n",
      "VALUE: 0.5\n",
      "No articles found in the response.\n",
      "API Response: {'Note': 'Thank you for using Alpha Vantage! Our standard API rate limit is 25 requests per day. Please visit https://www.alphavantage.co/premium/ if you would like to target a higher API call frequency.'}\n",
      "hi 0\n",
      "Today: 2025-01-04\n",
      "Early Date Object: 2025-01-10\n",
      "Difference (days): 6\n"
     ]
    },
    {
     "name": "stderr",
     "output_type": "stream",
     "text": [
      "/Users/DELL/Desktop/black-scholes-project/Black-Scholes-Pricing-Model/black-scholes-frontend/src/app/app.py:318: RuntimeWarning: divide by zero encountered in scalar divide\n",
      "  d1 = (np.log(S / K) + (r + 0.5 * sigma**2) * T) / (sigma * np.sqrt(T))\n"
     ]
    },
    {
     "name": "stdout",
     "output_type": "stream",
     "text": [
      "VALUE: 0.5\n",
      "No articles found in the response.\n",
      "API Response: {'Note': 'Thank you for using Alpha Vantage! Our standard API rate limit is 25 requests per day. Please visit https://www.alphavantage.co/premium/ if you would like to target a higher API call frequency.'}\n",
      "VALUE: 0.5\n",
      "No articles found in the response.\n",
      "API Response: {'Note': 'Thank you for using Alpha Vantage! Our standard API rate limit is 25 requests per day. Please visit https://www.alphavantage.co/premium/ if you would like to target a higher API call frequency.'}\n",
      "hi 0\n",
      "Today: 2025-01-04\n",
      "Early Date Object: 2025-01-10\n",
      "Difference (days): 6\n"
     ]
    },
    {
     "name": "stderr",
     "output_type": "stream",
     "text": [
      "/Users/DELL/Desktop/black-scholes-project/Black-Scholes-Pricing-Model/black-scholes-frontend/src/app/app.py:318: RuntimeWarning: divide by zero encountered in scalar divide\n",
      "  d1 = (np.log(S / K) + (r + 0.5 * sigma**2) * T) / (sigma * np.sqrt(T))\n"
     ]
    },
    {
     "name": "stdout",
     "output_type": "stream",
     "text": [
      "VALUE: 0.5\n",
      "No articles found in the response.\n",
      "API Response: {'Note': 'Thank you for using Alpha Vantage! Our standard API rate limit is 25 requests per day. Please visit https://www.alphavantage.co/premium/ if you would like to target a higher API call frequency.'}\n",
      "VALUE: 0.5\n",
      "No articles found in the response.\n",
      "API Response: {'Information': 'Thank you for using Alpha Vantage! Our standard API rate limit is 25 requests per day. Please subscribe to any of the premium plans at https://www.alphavantage.co/premium/ to instantly remove all daily rate limits.'}\n",
      "hi 0\n",
      "Today: 2025-01-04\n",
      "Early Date Object: 2025-01-10\n",
      "Difference (days): 6\n"
     ]
    },
    {
     "name": "stderr",
     "output_type": "stream",
     "text": [
      "/Users/DELL/Desktop/black-scholes-project/Black-Scholes-Pricing-Model/black-scholes-frontend/src/app/app.py:318: RuntimeWarning: divide by zero encountered in scalar divide\n",
      "  d1 = (np.log(S / K) + (r + 0.5 * sigma**2) * T) / (sigma * np.sqrt(T))\n"
     ]
    },
    {
     "name": "stdout",
     "output_type": "stream",
     "text": [
      "VALUE: 0.5\n",
      "No articles found in the response.\n",
      "API Response: {'Information': 'Thank you for using Alpha Vantage! Our standard API rate limit is 25 requests per day. Please subscribe to any of the premium plans at https://www.alphavantage.co/premium/ to instantly remove all daily rate limits.'}\n",
      "VALUE: 0.5\n",
      "No articles found in the response.\n",
      "API Response: {'Information': 'Thank you for using Alpha Vantage! Our standard API rate limit is 25 requests per day. Please subscribe to any of the premium plans at https://www.alphavantage.co/premium/ to instantly remove all daily rate limits.'}\n",
      "hi 0\n",
      "Today: 2025-01-04\n",
      "Early Date Object: 2025-01-10\n",
      "Difference (days): 6\n"
     ]
    },
    {
     "name": "stderr",
     "output_type": "stream",
     "text": [
      "/Users/DELL/Desktop/black-scholes-project/Black-Scholes-Pricing-Model/black-scholes-frontend/src/app/app.py:318: RuntimeWarning: divide by zero encountered in scalar divide\n",
      "  d1 = (np.log(S / K) + (r + 0.5 * sigma**2) * T) / (sigma * np.sqrt(T))\n"
     ]
    },
    {
     "name": "stdout",
     "output_type": "stream",
     "text": [
      "VALUE: 0.5\n",
      "No articles found in the response.\n",
      "API Response: {'Information': 'Thank you for using Alpha Vantage! Our standard API rate limit is 25 requests per day. Please subscribe to any of the premium plans at https://www.alphavantage.co/premium/ to instantly remove all daily rate limits.'}\n",
      "VALUE: 0.5\n",
      "No articles found in the response.\n",
      "API Response: {'Information': 'Thank you for using Alpha Vantage! Our standard API rate limit is 25 requests per day. Please subscribe to any of the premium plans at https://www.alphavantage.co/premium/ to instantly remove all daily rate limits.'}\n",
      "hi 0\n",
      "Today: 2025-01-04\n",
      "Early Date Object: 2025-01-17\n",
      "Difference (days): 13\n"
     ]
    },
    {
     "name": "stderr",
     "output_type": "stream",
     "text": [
      "/Users/DELL/Desktop/black-scholes-project/Black-Scholes-Pricing-Model/black-scholes-frontend/src/app/app.py:318: RuntimeWarning: divide by zero encountered in scalar divide\n",
      "  d1 = (np.log(S / K) + (r + 0.5 * sigma**2) * T) / (sigma * np.sqrt(T))\n"
     ]
    },
    {
     "name": "stdout",
     "output_type": "stream",
     "text": [
      "VALUE: 0.5\n",
      "No articles found in the response.\n",
      "API Response: {'Information': 'Thank you for using Alpha Vantage! Our standard API rate limit is 25 requests per day. Please subscribe to any of the premium plans at https://www.alphavantage.co/premium/ to instantly remove all daily rate limits.'}\n",
      "VALUE: 0.5\n",
      "No articles found in the response.\n",
      "API Response: {'Information': 'Thank you for using Alpha Vantage! Our standard API rate limit is 25 requests per day. Please subscribe to any of the premium plans at https://www.alphavantage.co/premium/ to instantly remove all daily rate limits.'}\n",
      "hi 0\n",
      "Today: 2025-01-04\n",
      "Early Date Object: 2025-01-10\n",
      "Difference (days): 6\n"
     ]
    },
    {
     "name": "stderr",
     "output_type": "stream",
     "text": [
      "/Users/DELL/Desktop/black-scholes-project/Black-Scholes-Pricing-Model/black-scholes-frontend/src/app/app.py:318: RuntimeWarning: divide by zero encountered in scalar divide\n",
      "  d1 = (np.log(S / K) + (r + 0.5 * sigma**2) * T) / (sigma * np.sqrt(T))\n"
     ]
    },
    {
     "name": "stdout",
     "output_type": "stream",
     "text": [
      "VALUE: 0.5\n",
      "No articles found in the response.\n",
      "API Response: {'Information': 'Thank you for using Alpha Vantage! Our standard API rate limit is 25 requests per day. Please subscribe to any of the premium plans at https://www.alphavantage.co/premium/ to instantly remove all daily rate limits.'}\n",
      "VALUE: 0.5\n",
      "No articles found in the response.\n",
      "API Response: {'Information': 'Thank you for using Alpha Vantage! Our standard API rate limit is 25 requests per day. Please subscribe to any of the premium plans at https://www.alphavantage.co/premium/ to instantly remove all daily rate limits.'}\n",
      "hi 0\n",
      "Today: 2025-01-04\n",
      "Early Date Object: 2025-01-10\n",
      "Difference (days): 6\n"
     ]
    },
    {
     "name": "stderr",
     "output_type": "stream",
     "text": [
      "/Users/DELL/Desktop/black-scholes-project/Black-Scholes-Pricing-Model/black-scholes-frontend/src/app/app.py:318: RuntimeWarning: divide by zero encountered in scalar divide\n",
      "  d1 = (np.log(S / K) + (r + 0.5 * sigma**2) * T) / (sigma * np.sqrt(T))\n"
     ]
    },
    {
     "name": "stdout",
     "output_type": "stream",
     "text": [
      "VALUE: 0.5\n",
      "No articles found in the response.\n",
      "API Response: {'Information': 'Thank you for using Alpha Vantage! Our standard API rate limit is 25 requests per day. Please subscribe to any of the premium plans at https://www.alphavantage.co/premium/ to instantly remove all daily rate limits.'}\n",
      "VALUE: 0.5\n",
      "No articles found in the response.\n",
      "API Response: {'Information': 'Thank you for using Alpha Vantage! Our standard API rate limit is 25 requests per day. Please subscribe to any of the premium plans at https://www.alphavantage.co/premium/ to instantly remove all daily rate limits.'}\n",
      "hi 0\n",
      "Today: 2025-01-04\n",
      "Early Date Object: 2025-01-10\n",
      "Difference (days): 6\n"
     ]
    },
    {
     "name": "stderr",
     "output_type": "stream",
     "text": [
      "/Users/DELL/Desktop/black-scholes-project/Black-Scholes-Pricing-Model/black-scholes-frontend/src/app/app.py:318: RuntimeWarning: divide by zero encountered in scalar divide\n",
      "  d1 = (np.log(S / K) + (r + 0.5 * sigma**2) * T) / (sigma * np.sqrt(T))\n"
     ]
    },
    {
     "name": "stdout",
     "output_type": "stream",
     "text": [
      "VALUE: 0.5\n",
      "No articles found in the response.\n",
      "API Response: {'Information': 'Thank you for using Alpha Vantage! Our standard API rate limit is 25 requests per day. Please subscribe to any of the premium plans at https://www.alphavantage.co/premium/ to instantly remove all daily rate limits.'}\n",
      "VALUE: 0.5\n",
      "No articles found in the response.\n",
      "API Response: {'Information': 'Thank you for using Alpha Vantage! Our standard API rate limit is 25 requests per day. Please subscribe to any of the premium plans at https://www.alphavantage.co/premium/ to instantly remove all daily rate limits.'}\n",
      "hi 0\n",
      "Today: 2025-01-04\n",
      "Early Date Object: 2025-01-10\n",
      "Difference (days): 6\n"
     ]
    },
    {
     "name": "stderr",
     "output_type": "stream",
     "text": [
      "/Users/DELL/Desktop/black-scholes-project/Black-Scholes-Pricing-Model/black-scholes-frontend/src/app/app.py:318: RuntimeWarning: divide by zero encountered in scalar divide\n",
      "  d1 = (np.log(S / K) + (r + 0.5 * sigma**2) * T) / (sigma * np.sqrt(T))\n"
     ]
    },
    {
     "name": "stdout",
     "output_type": "stream",
     "text": [
      "VALUE: 0.5\n",
      "No articles found in the response.\n",
      "API Response: {'Information': 'Thank you for using Alpha Vantage! Our standard API rate limit is 25 requests per day. Please subscribe to any of the premium plans at https://www.alphavantage.co/premium/ to instantly remove all daily rate limits.'}\n",
      "VALUE: 0.5\n",
      "No articles found in the response.\n",
      "API Response: {'Information': 'Thank you for using Alpha Vantage! Our standard API rate limit is 25 requests per day. Please subscribe to any of the premium plans at https://www.alphavantage.co/premium/ to instantly remove all daily rate limits.'}\n",
      "hi 0\n",
      "Today: 2025-01-04\n",
      "Early Date Object: 2025-01-10\n",
      "Difference (days): 6\n"
     ]
    },
    {
     "name": "stderr",
     "output_type": "stream",
     "text": [
      "/Users/DELL/Desktop/black-scholes-project/Black-Scholes-Pricing-Model/black-scholes-frontend/src/app/app.py:318: RuntimeWarning: divide by zero encountered in scalar divide\n",
      "  d1 = (np.log(S / K) + (r + 0.5 * sigma**2) * T) / (sigma * np.sqrt(T))\n"
     ]
    },
    {
     "name": "stdout",
     "output_type": "stream",
     "text": [
      "VALUE: 0.5\n",
      "No articles found in the response.\n",
      "API Response: {'Information': 'Thank you for using Alpha Vantage! Our standard API rate limit is 25 requests per day. Please subscribe to any of the premium plans at https://www.alphavantage.co/premium/ to instantly remove all daily rate limits.'}\n",
      "VALUE: 0.5\n",
      "No articles found in the response.\n",
      "API Response: {'Information': 'Thank you for using Alpha Vantage! Our standard API rate limit is 25 requests per day. Please subscribe to any of the premium plans at https://www.alphavantage.co/premium/ to instantly remove all daily rate limits.'}\n",
      "hi 0\n",
      "Today: 2025-01-04\n",
      "Early Date Object: 2025-01-17\n",
      "Difference (days): 13\n"
     ]
    },
    {
     "name": "stderr",
     "output_type": "stream",
     "text": [
      "/Users/DELL/Desktop/black-scholes-project/Black-Scholes-Pricing-Model/black-scholes-frontend/src/app/app.py:318: RuntimeWarning: divide by zero encountered in scalar divide\n",
      "  d1 = (np.log(S / K) + (r + 0.5 * sigma**2) * T) / (sigma * np.sqrt(T))\n"
     ]
    },
    {
     "name": "stdout",
     "output_type": "stream",
     "text": [
      "VALUE: 0.5\n",
      "No articles found in the response.\n",
      "API Response: {'Information': 'Thank you for using Alpha Vantage! Our standard API rate limit is 25 requests per day. Please subscribe to any of the premium plans at https://www.alphavantage.co/premium/ to instantly remove all daily rate limits.'}\n",
      "VALUE: 0.5\n",
      "No articles found in the response.\n",
      "API Response: {'Information': 'Thank you for using Alpha Vantage! Our standard API rate limit is 25 requests per day. Please subscribe to any of the premium plans at https://www.alphavantage.co/premium/ to instantly remove all daily rate limits.'}\n",
      "hi 0\n",
      "Today: 2025-01-04\n",
      "Early Date Object: 2025-01-10\n",
      "Difference (days): 6\n"
     ]
    },
    {
     "name": "stderr",
     "output_type": "stream",
     "text": [
      "/Users/DELL/Desktop/black-scholes-project/Black-Scholes-Pricing-Model/black-scholes-frontend/src/app/app.py:318: RuntimeWarning: divide by zero encountered in scalar divide\n",
      "  d1 = (np.log(S / K) + (r + 0.5 * sigma**2) * T) / (sigma * np.sqrt(T))\n"
     ]
    },
    {
     "name": "stdout",
     "output_type": "stream",
     "text": [
      "VALUE: 0.5\n",
      "No articles found in the response.\n",
      "API Response: {'Information': 'Thank you for using Alpha Vantage! Our standard API rate limit is 25 requests per day. Please subscribe to any of the premium plans at https://www.alphavantage.co/premium/ to instantly remove all daily rate limits.'}\n",
      "VALUE: 0.5\n",
      "No articles found in the response.\n",
      "API Response: {'Information': 'Thank you for using Alpha Vantage! Our standard API rate limit is 25 requests per day. Please subscribe to any of the premium plans at https://www.alphavantage.co/premium/ to instantly remove all daily rate limits.'}\n",
      "hi 0\n",
      "Today: 2025-01-04\n",
      "Early Date Object: 2025-01-10\n",
      "Difference (days): 6\n"
     ]
    },
    {
     "name": "stderr",
     "output_type": "stream",
     "text": [
      "/Users/DELL/Desktop/black-scholes-project/Black-Scholes-Pricing-Model/black-scholes-frontend/src/app/app.py:318: RuntimeWarning: divide by zero encountered in scalar divide\n",
      "  d1 = (np.log(S / K) + (r + 0.5 * sigma**2) * T) / (sigma * np.sqrt(T))\n"
     ]
    },
    {
     "name": "stdout",
     "output_type": "stream",
     "text": [
      "VALUE: 0.5\n",
      "No articles found in the response.\n",
      "API Response: {'Information': 'Thank you for using Alpha Vantage! Our standard API rate limit is 25 requests per day. Please subscribe to any of the premium plans at https://www.alphavantage.co/premium/ to instantly remove all daily rate limits.'}\n",
      "VALUE: 0.5\n",
      "No articles found in the response.\n",
      "API Response: {'Information': 'Thank you for using Alpha Vantage! Our standard API rate limit is 25 requests per day. Please subscribe to any of the premium plans at https://www.alphavantage.co/premium/ to instantly remove all daily rate limits.'}\n",
      "hi 0\n",
      "Today: 2025-01-04\n",
      "Early Date Object: 2025-01-10\n",
      "Difference (days): 6\n"
     ]
    },
    {
     "name": "stderr",
     "output_type": "stream",
     "text": [
      "/Users/DELL/Desktop/black-scholes-project/Black-Scholes-Pricing-Model/black-scholes-frontend/src/app/app.py:318: RuntimeWarning: divide by zero encountered in scalar divide\n",
      "  d1 = (np.log(S / K) + (r + 0.5 * sigma**2) * T) / (sigma * np.sqrt(T))\n"
     ]
    },
    {
     "name": "stdout",
     "output_type": "stream",
     "text": [
      "VALUE: 0.5\n",
      "No articles found in the response.\n",
      "API Response: {'Information': 'Thank you for using Alpha Vantage! Our standard API rate limit is 25 requests per day. Please subscribe to any of the premium plans at https://www.alphavantage.co/premium/ to instantly remove all daily rate limits.'}\n",
      "VALUE: 0.5\n",
      "No articles found in the response.\n",
      "API Response: {'Information': 'Thank you for using Alpha Vantage! Our standard API rate limit is 25 requests per day. Please subscribe to any of the premium plans at https://www.alphavantage.co/premium/ to instantly remove all daily rate limits.'}\n",
      "hi 0\n",
      "Today: 2025-01-04\n",
      "Early Date Object: 2025-01-10\n",
      "Difference (days): 6\n"
     ]
    },
    {
     "name": "stderr",
     "output_type": "stream",
     "text": [
      "/Users/DELL/Desktop/black-scholes-project/Black-Scholes-Pricing-Model/black-scholes-frontend/src/app/app.py:318: RuntimeWarning: divide by zero encountered in scalar divide\n",
      "  d1 = (np.log(S / K) + (r + 0.5 * sigma**2) * T) / (sigma * np.sqrt(T))\n"
     ]
    },
    {
     "name": "stdout",
     "output_type": "stream",
     "text": [
      "VALUE: 0.5\n",
      "No articles found in the response.\n",
      "API Response: {'Information': 'Thank you for using Alpha Vantage! Our standard API rate limit is 25 requests per day. Please subscribe to any of the premium plans at https://www.alphavantage.co/premium/ to instantly remove all daily rate limits.'}\n",
      "VALUE: 0.5\n",
      "No articles found in the response.\n",
      "API Response: {'Information': 'Thank you for using Alpha Vantage! Our standard API rate limit is 25 requests per day. Please subscribe to any of the premium plans at https://www.alphavantage.co/premium/ to instantly remove all daily rate limits.'}\n",
      "hi 0\n",
      "Today: 2025-01-04\n",
      "Early Date Object: 2025-01-17\n",
      "Difference (days): 13\n"
     ]
    },
    {
     "name": "stderr",
     "output_type": "stream",
     "text": [
      "/Users/DELL/Desktop/black-scholes-project/Black-Scholes-Pricing-Model/black-scholes-frontend/src/app/app.py:318: RuntimeWarning: divide by zero encountered in scalar divide\n",
      "  d1 = (np.log(S / K) + (r + 0.5 * sigma**2) * T) / (sigma * np.sqrt(T))\n"
     ]
    },
    {
     "name": "stdout",
     "output_type": "stream",
     "text": [
      "VALUE: 0.5\n",
      "No articles found in the response.\n",
      "API Response: {'Note': 'Thank you for using Alpha Vantage! Our standard API rate limit is 25 requests per day. Please visit https://www.alphavantage.co/premium/ if you would like to target a higher API call frequency.'}\n",
      "VALUE: 0.5\n",
      "No articles found in the response.\n",
      "API Response: {'Note': 'Thank you for using Alpha Vantage! Our standard API rate limit is 25 requests per day. Please visit https://www.alphavantage.co/premium/ if you would like to target a higher API call frequency.'}\n",
      "hi 0\n",
      "Today: 2025-01-04\n",
      "Early Date Object: 2025-01-10\n",
      "Difference (days): 6\n"
     ]
    },
    {
     "name": "stderr",
     "output_type": "stream",
     "text": [
      "/Users/DELL/Desktop/black-scholes-project/Black-Scholes-Pricing-Model/black-scholes-frontend/src/app/app.py:318: RuntimeWarning: divide by zero encountered in scalar divide\n",
      "  d1 = (np.log(S / K) + (r + 0.5 * sigma**2) * T) / (sigma * np.sqrt(T))\n"
     ]
    },
    {
     "name": "stdout",
     "output_type": "stream",
     "text": [
      "VALUE: 0.5\n",
      "No articles found in the response.\n",
      "API Response: {'Note': 'Thank you for using Alpha Vantage! Our standard API rate limit is 25 requests per day. Please visit https://www.alphavantage.co/premium/ if you would like to target a higher API call frequency.'}\n",
      "VALUE: 0.5\n",
      "No articles found in the response.\n",
      "API Response: {'Note': 'Thank you for using Alpha Vantage! Our standard API rate limit is 25 requests per day. Please visit https://www.alphavantage.co/premium/ if you would like to target a higher API call frequency.'}\n",
      "hi 0\n",
      "Today: 2025-01-04\n",
      "Early Date Object: 2025-01-10\n",
      "Difference (days): 6\n"
     ]
    },
    {
     "name": "stderr",
     "output_type": "stream",
     "text": [
      "/Users/DELL/Desktop/black-scholes-project/Black-Scholes-Pricing-Model/black-scholes-frontend/src/app/app.py:318: RuntimeWarning: divide by zero encountered in scalar divide\n",
      "  d1 = (np.log(S / K) + (r + 0.5 * sigma**2) * T) / (sigma * np.sqrt(T))\n"
     ]
    },
    {
     "name": "stdout",
     "output_type": "stream",
     "text": [
      "VALUE: 0.5\n",
      "No articles found in the response.\n",
      "API Response: {'Note': 'Thank you for using Alpha Vantage! Our standard API rate limit is 25 requests per day. Please visit https://www.alphavantage.co/premium/ if you would like to target a higher API call frequency.'}\n",
      "VALUE: 0.5\n",
      "No articles found in the response.\n",
      "API Response: {'Note': 'Thank you for using Alpha Vantage! Our standard API rate limit is 25 requests per day. Please visit https://www.alphavantage.co/premium/ if you would like to target a higher API call frequency.'}\n",
      "hi 0\n",
      "Today: 2025-01-04\n",
      "Early Date Object: 2025-01-10\n",
      "Difference (days): 6\n"
     ]
    },
    {
     "name": "stderr",
     "output_type": "stream",
     "text": [
      "/Users/DELL/Desktop/black-scholes-project/Black-Scholes-Pricing-Model/black-scholes-frontend/src/app/app.py:318: RuntimeWarning: divide by zero encountered in scalar divide\n",
      "  d1 = (np.log(S / K) + (r + 0.5 * sigma**2) * T) / (sigma * np.sqrt(T))\n"
     ]
    },
    {
     "name": "stdout",
     "output_type": "stream",
     "text": [
      "VALUE: 0.5\n",
      "No articles found in the response.\n",
      "API Response: {'Note': 'Thank you for using Alpha Vantage! Our standard API rate limit is 25 requests per day. Please visit https://www.alphavantage.co/premium/ if you would like to target a higher API call frequency.'}\n",
      "VALUE: 0.5\n",
      "No articles found in the response.\n",
      "API Response: {'Note': 'Thank you for using Alpha Vantage! Our standard API rate limit is 25 requests per day. Please visit https://www.alphavantage.co/premium/ if you would like to target a higher API call frequency.'}\n",
      "hi 0\n",
      "Today: 2025-01-04\n",
      "Early Date Object: 2025-01-10\n",
      "Difference (days): 6\n"
     ]
    },
    {
     "name": "stderr",
     "output_type": "stream",
     "text": [
      "/Users/DELL/Desktop/black-scholes-project/Black-Scholes-Pricing-Model/black-scholes-frontend/src/app/app.py:318: RuntimeWarning: divide by zero encountered in scalar divide\n",
      "  d1 = (np.log(S / K) + (r + 0.5 * sigma**2) * T) / (sigma * np.sqrt(T))\n"
     ]
    },
    {
     "name": "stdout",
     "output_type": "stream",
     "text": [
      "VALUE: 0.5\n",
      "No articles found in the response.\n",
      "API Response: {'Note': 'Thank you for using Alpha Vantage! Our standard API rate limit is 25 requests per day. Please visit https://www.alphavantage.co/premium/ if you would like to target a higher API call frequency.'}\n",
      "VALUE: 0.5\n",
      "No articles found in the response.\n",
      "API Response: {'Note': 'Thank you for using Alpha Vantage! Our standard API rate limit is 25 requests per day. Please visit https://www.alphavantage.co/premium/ if you would like to target a higher API call frequency.'}\n",
      "hi 0\n",
      "Today: 2025-01-04\n",
      "Early Date Object: 2025-01-17\n",
      "Difference (days): 13\n"
     ]
    },
    {
     "name": "stderr",
     "output_type": "stream",
     "text": [
      "/Users/DELL/Desktop/black-scholes-project/Black-Scholes-Pricing-Model/black-scholes-frontend/src/app/app.py:318: RuntimeWarning: divide by zero encountered in scalar divide\n",
      "  d1 = (np.log(S / K) + (r + 0.5 * sigma**2) * T) / (sigma * np.sqrt(T))\n"
     ]
    },
    {
     "name": "stdout",
     "output_type": "stream",
     "text": [
      "VALUE: 0.5\n",
      "No articles found in the response.\n",
      "API Response: {'Note': 'Thank you for using Alpha Vantage! Our standard API rate limit is 25 requests per day. Please visit https://www.alphavantage.co/premium/ if you would like to target a higher API call frequency.'}\n",
      "VALUE: 0.5\n",
      "No articles found in the response.\n",
      "API Response: {'Note': 'Thank you for using Alpha Vantage! Our standard API rate limit is 25 requests per day. Please visit https://www.alphavantage.co/premium/ if you would like to target a higher API call frequency.'}\n",
      "hi 0\n",
      "Today: 2025-01-04\n",
      "Early Date Object: 2025-01-17\n",
      "Difference (days): 13\n"
     ]
    },
    {
     "name": "stderr",
     "output_type": "stream",
     "text": [
      "/Users/DELL/Desktop/black-scholes-project/Black-Scholes-Pricing-Model/black-scholes-frontend/src/app/app.py:318: RuntimeWarning: divide by zero encountered in scalar divide\n",
      "  d1 = (np.log(S / K) + (r + 0.5 * sigma**2) * T) / (sigma * np.sqrt(T))\n"
     ]
    },
    {
     "name": "stdout",
     "output_type": "stream",
     "text": [
      "VALUE: 0.5\n",
      "No articles found in the response.\n",
      "API Response: {'Note': 'Thank you for using Alpha Vantage! Our standard API rate limit is 25 requests per day. Please visit https://www.alphavantage.co/premium/ if you would like to target a higher API call frequency.'}\n",
      "VALUE: 0.5\n",
      "No articles found in the response.\n",
      "API Response: {'Note': 'Thank you for using Alpha Vantage! Our standard API rate limit is 25 requests per day. Please visit https://www.alphavantage.co/premium/ if you would like to target a higher API call frequency.'}\n",
      "hi 0\n",
      "Today: 2025-01-04\n",
      "Early Date Object: 2025-01-10\n",
      "Difference (days): 6\n"
     ]
    },
    {
     "name": "stderr",
     "output_type": "stream",
     "text": [
      "/Users/DELL/Desktop/black-scholes-project/Black-Scholes-Pricing-Model/black-scholes-frontend/src/app/app.py:318: RuntimeWarning: divide by zero encountered in scalar divide\n",
      "  d1 = (np.log(S / K) + (r + 0.5 * sigma**2) * T) / (sigma * np.sqrt(T))\n"
     ]
    },
    {
     "name": "stdout",
     "output_type": "stream",
     "text": [
      "VALUE: 0.5\n",
      "No articles found in the response.\n",
      "API Response: {'Note': 'Thank you for using Alpha Vantage! Our standard API rate limit is 25 requests per day. Please visit https://www.alphavantage.co/premium/ if you would like to target a higher API call frequency.'}\n",
      "VALUE: 0.5\n",
      "No articles found in the response.\n",
      "API Response: {'Note': 'Thank you for using Alpha Vantage! Our standard API rate limit is 25 requests per day. Please visit https://www.alphavantage.co/premium/ if you would like to target a higher API call frequency.'}\n",
      "hi 0\n",
      "Today: 2025-01-04\n",
      "Early Date Object: 2025-01-10\n",
      "Difference (days): 6\n"
     ]
    },
    {
     "name": "stderr",
     "output_type": "stream",
     "text": [
      "/Users/DELL/Desktop/black-scholes-project/Black-Scholes-Pricing-Model/black-scholes-frontend/src/app/app.py:318: RuntimeWarning: divide by zero encountered in scalar divide\n",
      "  d1 = (np.log(S / K) + (r + 0.5 * sigma**2) * T) / (sigma * np.sqrt(T))\n"
     ]
    },
    {
     "name": "stdout",
     "output_type": "stream",
     "text": [
      "VALUE: 0.5\n",
      "No articles found in the response.\n",
      "API Response: {'Note': 'Thank you for using Alpha Vantage! Our standard API rate limit is 25 requests per day. Please visit https://www.alphavantage.co/premium/ if you would like to target a higher API call frequency.'}\n",
      "VALUE: 0.5\n",
      "No articles found in the response.\n",
      "API Response: {'Note': 'Thank you for using Alpha Vantage! Our standard API rate limit is 25 requests per day. Please visit https://www.alphavantage.co/premium/ if you would like to target a higher API call frequency.'}\n",
      "hi 0\n",
      "Today: 2025-01-04\n",
      "Early Date Object: 2025-01-10\n",
      "Difference (days): 6\n"
     ]
    },
    {
     "name": "stderr",
     "output_type": "stream",
     "text": [
      "/Users/DELL/Desktop/black-scholes-project/Black-Scholes-Pricing-Model/black-scholes-frontend/src/app/app.py:318: RuntimeWarning: divide by zero encountered in scalar divide\n",
      "  d1 = (np.log(S / K) + (r + 0.5 * sigma**2) * T) / (sigma * np.sqrt(T))\n"
     ]
    },
    {
     "name": "stdout",
     "output_type": "stream",
     "text": [
      "VALUE: 0.5\n",
      "No articles found in the response.\n",
      "API Response: {'Note': 'Thank you for using Alpha Vantage! Our standard API rate limit is 25 requests per day. Please visit https://www.alphavantage.co/premium/ if you would like to target a higher API call frequency.'}\n",
      "VALUE: 0.5\n",
      "No articles found in the response.\n",
      "API Response: {'Note': 'Thank you for using Alpha Vantage! Our standard API rate limit is 25 requests per day. Please visit https://www.alphavantage.co/premium/ if you would like to target a higher API call frequency.'}\n",
      "hi 0\n",
      "Today: 2025-01-04\n",
      "Early Date Object: 2025-01-17\n",
      "Difference (days): 13\n"
     ]
    },
    {
     "name": "stderr",
     "output_type": "stream",
     "text": [
      "/Users/DELL/Desktop/black-scholes-project/Black-Scholes-Pricing-Model/black-scholes-frontend/src/app/app.py:318: RuntimeWarning: divide by zero encountered in scalar divide\n",
      "  d1 = (np.log(S / K) + (r + 0.5 * sigma**2) * T) / (sigma * np.sqrt(T))\n",
      "$ATVI: possibly delisted; no price data found  (period=1d) (Yahoo error = \"No data found, symbol may be delisted\")\n"
     ]
    },
    {
     "name": "stdout",
     "output_type": "stream",
     "text": [
      "VALUE: 0.5\n",
      "No articles found in the response.\n",
      "API Response: {'Note': 'Thank you for using Alpha Vantage! Our standard API rate limit is 25 requests per day. Please visit https://www.alphavantage.co/premium/ if you would like to target a higher API call frequency.'}\n",
      "VALUE: 0.5\n",
      "No articles found in the response.\n",
      "API Response: {'Note': 'Thank you for using Alpha Vantage! Our standard API rate limit is 25 requests per day. Please visit https://www.alphavantage.co/premium/ if you would like to target a higher API call frequency.'}\n",
      "hi 0\n",
      "Today: 2025-01-04\n",
      "Early Date Object: 2025-01-17\n",
      "Difference (days): 13\n"
     ]
    },
    {
     "name": "stderr",
     "output_type": "stream",
     "text": [
      "/Users/DELL/Desktop/black-scholes-project/Black-Scholes-Pricing-Model/black-scholes-frontend/src/app/app.py:318: RuntimeWarning: divide by zero encountered in scalar divide\n",
      "  d1 = (np.log(S / K) + (r + 0.5 * sigma**2) * T) / (sigma * np.sqrt(T))\n"
     ]
    },
    {
     "name": "stdout",
     "output_type": "stream",
     "text": [
      "VALUE: 0.5\n",
      "No articles found in the response.\n",
      "API Response: {'Note': 'Thank you for using Alpha Vantage! Our standard API rate limit is 25 requests per day. Please visit https://www.alphavantage.co/premium/ if you would like to target a higher API call frequency.'}\n",
      "VALUE: 0.5\n",
      "No articles found in the response.\n",
      "API Response: {'Note': 'Thank you for using Alpha Vantage! Our standard API rate limit is 25 requests per day. Please visit https://www.alphavantage.co/premium/ if you would like to target a higher API call frequency.'}\n",
      "hi 0\n",
      "Today: 2025-01-04\n",
      "Early Date Object: 2025-01-10\n",
      "Difference (days): 6\n"
     ]
    },
    {
     "name": "stderr",
     "output_type": "stream",
     "text": [
      "/Users/DELL/Desktop/black-scholes-project/Black-Scholes-Pricing-Model/black-scholes-frontend/src/app/app.py:318: RuntimeWarning: divide by zero encountered in scalar divide\n",
      "  d1 = (np.log(S / K) + (r + 0.5 * sigma**2) * T) / (sigma * np.sqrt(T))\n"
     ]
    },
    {
     "name": "stdout",
     "output_type": "stream",
     "text": [
      "VALUE: 0.5\n",
      "No articles found in the response.\n",
      "API Response: {'Note': 'Thank you for using Alpha Vantage! Our standard API rate limit is 25 requests per day. Please visit https://www.alphavantage.co/premium/ if you would like to target a higher API call frequency.'}\n",
      "VALUE: 0.5\n",
      "No articles found in the response.\n",
      "API Response: {'Note': 'Thank you for using Alpha Vantage! Our standard API rate limit is 25 requests per day. Please visit https://www.alphavantage.co/premium/ if you would like to target a higher API call frequency.'}\n",
      "hi 0\n",
      "Today: 2025-01-04\n",
      "Early Date Object: 2025-01-10\n",
      "Difference (days): 6\n"
     ]
    },
    {
     "name": "stderr",
     "output_type": "stream",
     "text": [
      "/Users/DELL/Desktop/black-scholes-project/Black-Scholes-Pricing-Model/black-scholes-frontend/src/app/app.py:318: RuntimeWarning: divide by zero encountered in scalar divide\n",
      "  d1 = (np.log(S / K) + (r + 0.5 * sigma**2) * T) / (sigma * np.sqrt(T))\n"
     ]
    },
    {
     "name": "stdout",
     "output_type": "stream",
     "text": [
      "VALUE: 0.5\n",
      "No articles found in the response.\n",
      "API Response: {'Note': 'Thank you for using Alpha Vantage! Our standard API rate limit is 25 requests per day. Please visit https://www.alphavantage.co/premium/ if you would like to target a higher API call frequency.'}\n",
      "VALUE: 0.5\n",
      "No articles found in the response.\n",
      "API Response: {'Note': 'Thank you for using Alpha Vantage! Our standard API rate limit is 25 requests per day. Please visit https://www.alphavantage.co/premium/ if you would like to target a higher API call frequency.'}\n",
      "hi 0\n",
      "Today: 2025-01-04\n",
      "Early Date Object: 2025-01-17\n",
      "Difference (days): 13\n"
     ]
    },
    {
     "name": "stderr",
     "output_type": "stream",
     "text": [
      "/Users/DELL/Desktop/black-scholes-project/Black-Scholes-Pricing-Model/black-scholes-frontend/src/app/app.py:318: RuntimeWarning: divide by zero encountered in scalar divide\n",
      "  d1 = (np.log(S / K) + (r + 0.5 * sigma**2) * T) / (sigma * np.sqrt(T))\n"
     ]
    },
    {
     "name": "stdout",
     "output_type": "stream",
     "text": [
      "VALUE: 0.5\n",
      "No articles found in the response.\n",
      "API Response: {'Note': 'Thank you for using Alpha Vantage! Our standard API rate limit is 25 requests per day. Please visit https://www.alphavantage.co/premium/ if you would like to target a higher API call frequency.'}\n",
      "VALUE: 0.5\n",
      "No articles found in the response.\n",
      "API Response: {'Note': 'Thank you for using Alpha Vantage! Our standard API rate limit is 25 requests per day. Please visit https://www.alphavantage.co/premium/ if you would like to target a higher API call frequency.'}\n",
      "hi 0\n",
      "Today: 2025-01-04\n",
      "Early Date Object: 2025-01-17\n",
      "Difference (days): 13\n"
     ]
    },
    {
     "name": "stderr",
     "output_type": "stream",
     "text": [
      "/Users/DELL/Desktop/black-scholes-project/Black-Scholes-Pricing-Model/black-scholes-frontend/src/app/app.py:318: RuntimeWarning: divide by zero encountered in scalar divide\n",
      "  d1 = (np.log(S / K) + (r + 0.5 * sigma**2) * T) / (sigma * np.sqrt(T))\n"
     ]
    },
    {
     "name": "stdout",
     "output_type": "stream",
     "text": [
      "VALUE: 0.5\n",
      "No articles found in the response.\n",
      "API Response: {'Note': 'Thank you for using Alpha Vantage! Our standard API rate limit is 25 requests per day. Please visit https://www.alphavantage.co/premium/ if you would like to target a higher API call frequency.'}\n",
      "VALUE: 0.5\n",
      "No articles found in the response.\n",
      "API Response: {'Note': 'Thank you for using Alpha Vantage! Our standard API rate limit is 25 requests per day. Please visit https://www.alphavantage.co/premium/ if you would like to target a higher API call frequency.'}\n",
      "hi 0\n",
      "Today: 2025-01-04\n",
      "Early Date Object: 2025-01-17\n",
      "Difference (days): 13\n"
     ]
    },
    {
     "name": "stderr",
     "output_type": "stream",
     "text": [
      "/Users/DELL/Desktop/black-scholes-project/Black-Scholes-Pricing-Model/black-scholes-frontend/src/app/app.py:318: RuntimeWarning: divide by zero encountered in scalar divide\n",
      "  d1 = (np.log(S / K) + (r + 0.5 * sigma**2) * T) / (sigma * np.sqrt(T))\n"
     ]
    },
    {
     "name": "stdout",
     "output_type": "stream",
     "text": [
      "VALUE: 0.5\n",
      "No articles found in the response.\n",
      "API Response: {'Note': 'Thank you for using Alpha Vantage! Our standard API rate limit is 25 requests per day. Please visit https://www.alphavantage.co/premium/ if you would like to target a higher API call frequency.'}\n",
      "VALUE: 0.5\n",
      "No articles found in the response.\n",
      "API Response: {'Note': 'Thank you for using Alpha Vantage! Our standard API rate limit is 25 requests per day. Please visit https://www.alphavantage.co/premium/ if you would like to target a higher API call frequency.'}\n",
      "hi 0\n",
      "Today: 2025-01-04\n",
      "Early Date Object: 2025-01-10\n",
      "Difference (days): 6\n"
     ]
    },
    {
     "name": "stderr",
     "output_type": "stream",
     "text": [
      "/Users/DELL/Desktop/black-scholes-project/Black-Scholes-Pricing-Model/black-scholes-frontend/src/app/app.py:318: RuntimeWarning: divide by zero encountered in scalar divide\n",
      "  d1 = (np.log(S / K) + (r + 0.5 * sigma**2) * T) / (sigma * np.sqrt(T))\n"
     ]
    },
    {
     "name": "stdout",
     "output_type": "stream",
     "text": [
      "VALUE: 0.5\n",
      "No articles found in the response.\n",
      "API Response: {'Note': 'Thank you for using Alpha Vantage! Our standard API rate limit is 25 requests per day. Please visit https://www.alphavantage.co/premium/ if you would like to target a higher API call frequency.'}\n",
      "VALUE: 0.5\n",
      "No articles found in the response.\n",
      "API Response: {'Note': 'Thank you for using Alpha Vantage! Our standard API rate limit is 25 requests per day. Please visit https://www.alphavantage.co/premium/ if you would like to target a higher API call frequency.'}\n",
      "hi 0\n",
      "Today: 2025-01-04\n",
      "Early Date Object: 2025-01-17\n",
      "Difference (days): 13\n"
     ]
    },
    {
     "name": "stderr",
     "output_type": "stream",
     "text": [
      "/Users/DELL/Desktop/black-scholes-project/Black-Scholes-Pricing-Model/black-scholes-frontend/src/app/app.py:318: RuntimeWarning: divide by zero encountered in scalar divide\n",
      "  d1 = (np.log(S / K) + (r + 0.5 * sigma**2) * T) / (sigma * np.sqrt(T))\n"
     ]
    },
    {
     "name": "stdout",
     "output_type": "stream",
     "text": [
      "VALUE: 0.5\n",
      "No articles found in the response.\n",
      "API Response: {'Note': 'Thank you for using Alpha Vantage! Our standard API rate limit is 25 requests per day. Please visit https://www.alphavantage.co/premium/ if you would like to target a higher API call frequency.'}\n",
      "VALUE: 0.5\n",
      "No articles found in the response.\n",
      "API Response: {'Note': 'Thank you for using Alpha Vantage! Our standard API rate limit is 25 requests per day. Please visit https://www.alphavantage.co/premium/ if you would like to target a higher API call frequency.'}\n",
      "hi 0\n",
      "Today: 2025-01-04\n",
      "Early Date Object: 2025-01-17\n",
      "Difference (days): 13\n"
     ]
    },
    {
     "name": "stderr",
     "output_type": "stream",
     "text": [
      "/Users/DELL/Desktop/black-scholes-project/Black-Scholes-Pricing-Model/black-scholes-frontend/src/app/app.py:318: RuntimeWarning: divide by zero encountered in scalar divide\n",
      "  d1 = (np.log(S / K) + (r + 0.5 * sigma**2) * T) / (sigma * np.sqrt(T))\n"
     ]
    },
    {
     "name": "stdout",
     "output_type": "stream",
     "text": [
      "VALUE: 0.5\n",
      "No articles found in the response.\n",
      "API Response: {'Note': 'Thank you for using Alpha Vantage! Our standard API rate limit is 25 requests per day. Please visit https://www.alphavantage.co/premium/ if you would like to target a higher API call frequency.'}\n",
      "VALUE: 0.5\n",
      "No articles found in the response.\n",
      "API Response: {'Note': 'Thank you for using Alpha Vantage! Our standard API rate limit is 25 requests per day. Please visit https://www.alphavantage.co/premium/ if you would like to target a higher API call frequency.'}\n",
      "hi 0\n",
      "Today: 2025-01-04\n",
      "Early Date Object: 2025-01-10\n",
      "Difference (days): 6\n"
     ]
    },
    {
     "name": "stderr",
     "output_type": "stream",
     "text": [
      "/Users/DELL/Desktop/black-scholes-project/Black-Scholes-Pricing-Model/black-scholes-frontend/src/app/app.py:318: RuntimeWarning: divide by zero encountered in scalar divide\n",
      "  d1 = (np.log(S / K) + (r + 0.5 * sigma**2) * T) / (sigma * np.sqrt(T))\n"
     ]
    },
    {
     "name": "stdout",
     "output_type": "stream",
     "text": [
      "VALUE: 0.5\n",
      "No articles found in the response.\n",
      "API Response: {'Note': 'Thank you for using Alpha Vantage! Our standard API rate limit is 25 requests per day. Please visit https://www.alphavantage.co/premium/ if you would like to target a higher API call frequency.'}\n",
      "VALUE: 0.5\n",
      "No articles found in the response.\n",
      "API Response: {'Note': 'Thank you for using Alpha Vantage! Our standard API rate limit is 25 requests per day. Please visit https://www.alphavantage.co/premium/ if you would like to target a higher API call frequency.'}\n",
      "hi 0\n",
      "Today: 2025-01-04\n",
      "Early Date Object: 2025-01-10\n",
      "Difference (days): 6\n"
     ]
    },
    {
     "name": "stderr",
     "output_type": "stream",
     "text": [
      "/Users/DELL/Desktop/black-scholes-project/Black-Scholes-Pricing-Model/black-scholes-frontend/src/app/app.py:318: RuntimeWarning: divide by zero encountered in scalar divide\n",
      "  d1 = (np.log(S / K) + (r + 0.5 * sigma**2) * T) / (sigma * np.sqrt(T))\n"
     ]
    },
    {
     "name": "stdout",
     "output_type": "stream",
     "text": [
      "VALUE: 0.5\n",
      "No articles found in the response.\n",
      "API Response: {'Note': 'Thank you for using Alpha Vantage! Our standard API rate limit is 25 requests per day. Please visit https://www.alphavantage.co/premium/ if you would like to target a higher API call frequency.'}\n",
      "VALUE: 0.5\n",
      "No articles found in the response.\n",
      "API Response: {'Note': 'Thank you for using Alpha Vantage! Our standard API rate limit is 25 requests per day. Please visit https://www.alphavantage.co/premium/ if you would like to target a higher API call frequency.'}\n",
      "hi 0\n",
      "Today: 2025-01-04\n",
      "Early Date Object: 2025-01-17\n",
      "Difference (days): 13\n"
     ]
    },
    {
     "name": "stderr",
     "output_type": "stream",
     "text": [
      "/Users/DELL/Desktop/black-scholes-project/Black-Scholes-Pricing-Model/black-scholes-frontend/src/app/app.py:318: RuntimeWarning: divide by zero encountered in scalar divide\n",
      "  d1 = (np.log(S / K) + (r + 0.5 * sigma**2) * T) / (sigma * np.sqrt(T))\n"
     ]
    },
    {
     "name": "stdout",
     "output_type": "stream",
     "text": [
      "VALUE: 0.5\n",
      "No articles found in the response.\n",
      "API Response: {'Note': 'Thank you for using Alpha Vantage! Our standard API rate limit is 25 requests per day. Please visit https://www.alphavantage.co/premium/ if you would like to target a higher API call frequency.'}\n",
      "VALUE: 0.5\n",
      "No articles found in the response.\n",
      "API Response: {'Note': 'Thank you for using Alpha Vantage! Our standard API rate limit is 25 requests per day. Please visit https://www.alphavantage.co/premium/ if you would like to target a higher API call frequency.'}\n",
      "hi 0\n",
      "Today: 2025-01-04\n",
      "Early Date Object: 2025-01-17\n",
      "Difference (days): 13\n"
     ]
    },
    {
     "name": "stderr",
     "output_type": "stream",
     "text": [
      "/Users/DELL/Desktop/black-scholes-project/Black-Scholes-Pricing-Model/black-scholes-frontend/src/app/app.py:318: RuntimeWarning: divide by zero encountered in scalar divide\n",
      "  d1 = (np.log(S / K) + (r + 0.5 * sigma**2) * T) / (sigma * np.sqrt(T))\n"
     ]
    },
    {
     "name": "stdout",
     "output_type": "stream",
     "text": [
      "VALUE: 0.5\n",
      "No articles found in the response.\n",
      "API Response: {'Note': 'Thank you for using Alpha Vantage! Our standard API rate limit is 25 requests per day. Please visit https://www.alphavantage.co/premium/ if you would like to target a higher API call frequency.'}\n",
      "VALUE: 0.5\n",
      "No articles found in the response.\n",
      "API Response: {'Note': 'Thank you for using Alpha Vantage! Our standard API rate limit is 25 requests per day. Please visit https://www.alphavantage.co/premium/ if you would like to target a higher API call frequency.'}\n",
      "hi 0\n",
      "Today: 2025-01-04\n",
      "Early Date Object: 2025-01-10\n",
      "Difference (days): 6\n"
     ]
    },
    {
     "name": "stderr",
     "output_type": "stream",
     "text": [
      "/Users/DELL/Desktop/black-scholes-project/Black-Scholes-Pricing-Model/black-scholes-frontend/src/app/app.py:318: RuntimeWarning: divide by zero encountered in scalar divide\n",
      "  d1 = (np.log(S / K) + (r + 0.5 * sigma**2) * T) / (sigma * np.sqrt(T))\n"
     ]
    },
    {
     "name": "stdout",
     "output_type": "stream",
     "text": [
      "VALUE: 0.5\n",
      "No articles found in the response.\n",
      "API Response: {'Note': 'Thank you for using Alpha Vantage! Our standard API rate limit is 25 requests per day. Please visit https://www.alphavantage.co/premium/ if you would like to target a higher API call frequency.'}\n",
      "VALUE: 0.5\n",
      "No articles found in the response.\n",
      "API Response: {'Note': 'Thank you for using Alpha Vantage! Our standard API rate limit is 25 requests per day. Please visit https://www.alphavantage.co/premium/ if you would like to target a higher API call frequency.'}\n",
      "hi 0\n",
      "Today: 2025-01-04\n",
      "Early Date Object: 2025-01-10\n",
      "Difference (days): 6\n"
     ]
    },
    {
     "name": "stderr",
     "output_type": "stream",
     "text": [
      "/Users/DELL/Desktop/black-scholes-project/Black-Scholes-Pricing-Model/black-scholes-frontend/src/app/app.py:318: RuntimeWarning: divide by zero encountered in scalar divide\n",
      "  d1 = (np.log(S / K) + (r + 0.5 * sigma**2) * T) / (sigma * np.sqrt(T))\n"
     ]
    },
    {
     "name": "stdout",
     "output_type": "stream",
     "text": [
      "VALUE: 0.5\n",
      "No articles found in the response.\n",
      "API Response: {'Note': 'Thank you for using Alpha Vantage! Our standard API rate limit is 25 requests per day. Please visit https://www.alphavantage.co/premium/ if you would like to target a higher API call frequency.'}\n",
      "VALUE: 0.5\n",
      "No articles found in the response.\n",
      "API Response: {'Note': 'Thank you for using Alpha Vantage! Our standard API rate limit is 25 requests per day. Please visit https://www.alphavantage.co/premium/ if you would like to target a higher API call frequency.'}\n",
      "hi 0\n",
      "Today: 2025-01-04\n",
      "Early Date Object: 2025-01-10\n",
      "Difference (days): 6\n"
     ]
    },
    {
     "name": "stderr",
     "output_type": "stream",
     "text": [
      "/Users/DELL/Desktop/black-scholes-project/Black-Scholes-Pricing-Model/black-scholes-frontend/src/app/app.py:318: RuntimeWarning: divide by zero encountered in scalar divide\n",
      "  d1 = (np.log(S / K) + (r + 0.5 * sigma**2) * T) / (sigma * np.sqrt(T))\n"
     ]
    },
    {
     "name": "stdout",
     "output_type": "stream",
     "text": [
      "VALUE: 0.5\n",
      "No articles found in the response.\n",
      "API Response: {'Note': 'Thank you for using Alpha Vantage! Our standard API rate limit is 25 requests per day. Please visit https://www.alphavantage.co/premium/ if you would like to target a higher API call frequency.'}\n",
      "VALUE: 0.5\n",
      "No articles found in the response.\n",
      "API Response: {'Note': 'Thank you for using Alpha Vantage! Our standard API rate limit is 25 requests per day. Please visit https://www.alphavantage.co/premium/ if you would like to target a higher API call frequency.'}\n",
      "hi 0\n",
      "Today: 2025-01-04\n",
      "Early Date Object: 2025-01-10\n",
      "Difference (days): 6\n"
     ]
    },
    {
     "name": "stderr",
     "output_type": "stream",
     "text": [
      "/Users/DELL/Desktop/black-scholes-project/Black-Scholes-Pricing-Model/black-scholes-frontend/src/app/app.py:318: RuntimeWarning: divide by zero encountered in scalar divide\n",
      "  d1 = (np.log(S / K) + (r + 0.5 * sigma**2) * T) / (sigma * np.sqrt(T))\n"
     ]
    },
    {
     "name": "stdout",
     "output_type": "stream",
     "text": [
      "VALUE: 0.5\n",
      "No articles found in the response.\n",
      "API Response: {'Note': 'Thank you for using Alpha Vantage! Our standard API rate limit is 25 requests per day. Please visit https://www.alphavantage.co/premium/ if you would like to target a higher API call frequency.'}\n",
      "VALUE: 0.5\n",
      "No articles found in the response.\n",
      "API Response: {'Note': 'Thank you for using Alpha Vantage! Our standard API rate limit is 25 requests per day. Please visit https://www.alphavantage.co/premium/ if you would like to target a higher API call frequency.'}\n",
      "hi 0\n",
      "Today: 2025-01-04\n",
      "Early Date Object: 2025-01-10\n",
      "Difference (days): 6\n"
     ]
    },
    {
     "name": "stderr",
     "output_type": "stream",
     "text": [
      "/Users/DELL/Desktop/black-scholes-project/Black-Scholes-Pricing-Model/black-scholes-frontend/src/app/app.py:318: RuntimeWarning: divide by zero encountered in scalar divide\n",
      "  d1 = (np.log(S / K) + (r + 0.5 * sigma**2) * T) / (sigma * np.sqrt(T))\n"
     ]
    },
    {
     "name": "stdout",
     "output_type": "stream",
     "text": [
      "VALUE: 0.5\n",
      "No articles found in the response.\n",
      "API Response: {'Note': 'Thank you for using Alpha Vantage! Our standard API rate limit is 25 requests per day. Please visit https://www.alphavantage.co/premium/ if you would like to target a higher API call frequency.'}\n",
      "VALUE: 0.5\n",
      "No articles found in the response.\n",
      "API Response: {'Note': 'Thank you for using Alpha Vantage! Our standard API rate limit is 25 requests per day. Please visit https://www.alphavantage.co/premium/ if you would like to target a higher API call frequency.'}\n",
      "hi 0\n",
      "Today: 2025-01-04\n",
      "Early Date Object: 2025-01-10\n",
      "Difference (days): 6\n"
     ]
    },
    {
     "name": "stderr",
     "output_type": "stream",
     "text": [
      "/Users/DELL/Desktop/black-scholes-project/Black-Scholes-Pricing-Model/black-scholes-frontend/src/app/app.py:318: RuntimeWarning: divide by zero encountered in scalar divide\n",
      "  d1 = (np.log(S / K) + (r + 0.5 * sigma**2) * T) / (sigma * np.sqrt(T))\n"
     ]
    },
    {
     "name": "stdout",
     "output_type": "stream",
     "text": [
      "VALUE: 0.5\n",
      "No articles found in the response.\n",
      "API Response: {'Note': 'Thank you for using Alpha Vantage! Our standard API rate limit is 25 requests per day. Please visit https://www.alphavantage.co/premium/ if you would like to target a higher API call frequency.'}\n",
      "VALUE: 0.5\n",
      "No articles found in the response.\n",
      "API Response: {'Note': 'Thank you for using Alpha Vantage! Our standard API rate limit is 25 requests per day. Please visit https://www.alphavantage.co/premium/ if you would like to target a higher API call frequency.'}\n",
      "hi 0\n",
      "Today: 2025-01-04\n",
      "Early Date Object: 2025-01-10\n",
      "Difference (days): 6\n"
     ]
    },
    {
     "name": "stderr",
     "output_type": "stream",
     "text": [
      "/Users/DELL/Desktop/black-scholes-project/Black-Scholes-Pricing-Model/black-scholes-frontend/src/app/app.py:318: RuntimeWarning: divide by zero encountered in scalar divide\n",
      "  d1 = (np.log(S / K) + (r + 0.5 * sigma**2) * T) / (sigma * np.sqrt(T))\n"
     ]
    },
    {
     "name": "stdout",
     "output_type": "stream",
     "text": [
      "VALUE: 0.5\n",
      "No articles found in the response.\n",
      "API Response: {'Note': 'Thank you for using Alpha Vantage! Our standard API rate limit is 25 requests per day. Please visit https://www.alphavantage.co/premium/ if you would like to target a higher API call frequency.'}\n",
      "VALUE: 0.5\n",
      "No articles found in the response.\n",
      "API Response: {'Note': 'Thank you for using Alpha Vantage! Our standard API rate limit is 25 requests per day. Please visit https://www.alphavantage.co/premium/ if you would like to target a higher API call frequency.'}\n",
      "hi 0\n",
      "Today: 2025-01-04\n",
      "Early Date Object: 2025-01-10\n",
      "Difference (days): 6\n"
     ]
    },
    {
     "name": "stderr",
     "output_type": "stream",
     "text": [
      "/Users/DELL/Desktop/black-scholes-project/Black-Scholes-Pricing-Model/black-scholes-frontend/src/app/app.py:318: RuntimeWarning: divide by zero encountered in scalar divide\n",
      "  d1 = (np.log(S / K) + (r + 0.5 * sigma**2) * T) / (sigma * np.sqrt(T))\n"
     ]
    },
    {
     "name": "stdout",
     "output_type": "stream",
     "text": [
      "VALUE: 0.5\n",
      "No articles found in the response.\n",
      "API Response: {'Note': 'Thank you for using Alpha Vantage! Our standard API rate limit is 25 requests per day. Please visit https://www.alphavantage.co/premium/ if you would like to target a higher API call frequency.'}\n",
      "VALUE: 0.5\n",
      "No articles found in the response.\n",
      "API Response: {'Note': 'Thank you for using Alpha Vantage! Our standard API rate limit is 25 requests per day. Please visit https://www.alphavantage.co/premium/ if you would like to target a higher API call frequency.'}\n",
      "hi 0\n",
      "Today: 2025-01-04\n",
      "Early Date Object: 2025-01-17\n",
      "Difference (days): 13\n",
      "[[149.6, 138.37206197188715, 138.3720620167095], [181.5, 183.3775749298827, 183.37757492997233], [91.08, 91.8014802971191, 91.8014803969424], [119.08, 119.20206380294185, 119.20206380305775], [426.4, 424.6506815025878, 424.650681502982], [406.45, 335.448617699646, 335.4486208715731], [94.18, 94.47574472619627, 94.47574472619661], [124.5, 123.59790469484852, 123.59790506069675], [20.66, 14.204935555688422, 14.20658473946807], [148.35, 144.92953158078606, 144.92954049069758], [205.61, 203.03560973405752, 203.0356158338662], [25.28, 25.78746533643796, 25.79413249886761], [24.2, 19.146775918852484, 19.15101079532883], [41.7, 43.30297280126945, 43.303373344725514], [50.4, 46.719335688409274, 46.71933884628294], [160.15, 146.4030616427611, 146.4030616427611], [20.15, 23.86424999713863, 23.864253325386443], [11.41, 11.591723204235834, 11.59172430561999], [67.71, 71.23263693278804, 71.23263703810332], [17.95, 16.75516915494383, 16.75516919858945], [72.64, 64.65975785582272, 64.65975785873871], [25.52, 17.87033892023922, 17.870339569026754], [11.6, 10.865514375624983, 10.86551487845884], [250.5, 130.6044683571776, 130.6044683571776], [499.97, 491.0947871358153, 491.0947871380046], [5.28, 5.561722517590326, 5.585213859860838], [8.9, 8.671608257832025, 8.671608376483682], [19.7, 19.149188998437467, 19.149201442763598], [14.75, 14.813447476586902, 14.815443545621768], [27.79, 26.16976762144772, 26.17769144187868], [159.49, 137.92239356790765, 137.9224087363045], [416.33, 376.64204694916975, 376.6420469498512], [21.1, 21.315741064086893, 21.315741064858322], [131.5, 129.79895234742426, 129.79895234742426], [7.75, 7.842178062700157, 7.842335582585903], [18.1, 15.262870074279775, 15.262870233898017], [29.0, 23.315741064086893, 23.315741166070474], [227.3, 222.0443077302732, 222.04455369987386], [11.85, 11.672984791801749, 11.720065345853424], [147.28, 142.56034136164547, 142.56045624548597], [22.2, 20.529522425512624, 20.5319554408388], [60.83, 57.841488842040974, 57.84256600509791], [42.0, 31.33551478905025, 31.33641421785589], [51.61, 55.37804365427243, 55.37804368794576], [30.35, 30.17210639263297, 30.172231871164456], [10.6, 11.544701346081467, 11.56169685395355], [31.9, 24.864119060961826, 24.864119060961826], [70.0, 71.97149372485347, 71.97149373220095], [23.45, 23.80148792651363, 23.801534838504182], [310.35, 278.5155074648315, 278.51562744016957], [73.05, 73.50009799676508, 73.50009799677267], [18.68, 17.032058004602007, 17.03211885344362], [15.6, 15.881489757568318, 15.881498698335847], [25.5, 23.82906438227525, 23.845016801217298], [45.35, 19.625144976952924, 19.625144976952924], [15.8, 15.883090309711875, 15.883120354402763], [34.3, 25.299476885217018, 25.370745816902627], [6.87, 6.249293098718169, 6.352073970817997], [117.28, 95.18571688609597, 95.18584183418062], [63.9, 74.91090655692135, 74.91090836701598], [303.88, 270.9161696722409, 270.91616967309665], [17.03, 9.457463505383274, 9.458104793275979], [38.5, 35.8014802971191, 35.80148031232342], [11.5, 10.958037855932588, 10.958054802360309], [118.81, 120.33764912293685, 120.33764912350534], [268.0, 256.53205037520746, 256.56882721893095], [30.3, 30.07607937397455, 30.07819681610067], [26.7, 21.72101737106925, 21.74667510827362], [538.2, 513.8343467927732, 513.8343467949572], [35.23, 34.87632060262449, 34.87633773957898], [13.28, 10.167125608920877, 10.167126252318724], [77.0, 63.321484569580036, 63.381702066309245], [25.18, 25.951489452392536, 25.962199334912455], [764.9, 634.3405930253648, 634.3414250520218], [99.1, 72.26020575915516, 72.2602060513617], [34.7, 38.11042715137927, 38.11077081123875], [175.38, 163.92378807529292, 163.92378807529292], [238.38, 178.2120542733885, 178.2120542769062], [188.31, 171.85561705827627, 171.8556170727423], [5.1, 5.394117840258701, 5.534676388869286], [0.39, 0.0, 0.08485407963296154], [151.3, 203.99724150280755, 203.99724150280755], [55.9, 55.63574075891111, 55.63574075891111], [118.6, 137.1410002812255, 137.14146863279655], [61.0, 65.72470928065178, 65.7247092868233], [39.0, 42.07630588508283, 42.12637377253321], [55.3, 52.312967308105385, 52.312967308223904], IndexError('single positional indexer is out-of-bounds'), [71.21, 56.950094945007265, 57.14112899407422], [3.2, 0.7748127510082554, 0.9520510533716617], [0.87, 0.16033983576656397, 0.7911131033752667], [31.35, 41.7631610642517, 41.7631610642517], [145.9, 141.7449441006103, 141.7696886511455], [121.6, 100.47298622900382, 100.47298622900382], [8.15, 8.113446713647448, 8.113637509573103], [20.8, 18.052296639257804, 18.055980103688327], [62.34, 104.84516549283445, 104.84516549283445], [38.0, 36.94124913926996, 36.941250313779335], [9.9, 8.419537881227996, 8.419707433709263], [98.68, 91.28378868564448, 91.28484936637975], [37.94, 38.914024115954575, 38.91402411595988], [16.97, 9.677464726086399, 9.67753257369381], [48.75, 39.43699813792716, 39.437000384134166], [5.6, 5.500459480439451, 5.507577318394832], [34.36, 35.11459541474608, 35.11470661243515], [22.2, 15.782107002984532, 16.04670660926098], [10.13, 9.394938804372543, 9.394938931746772], [9.05, 7.6162035962841586, 7.61631245751542], [8.6, 9.26665616593013, 9.286317983398476], [39.67, 46.383443356713855, 46.383443356713855]]\n"
     ]
    },
    {
     "name": "stderr",
     "output_type": "stream",
     "text": [
      "/Users/DELL/Desktop/black-scholes-project/Black-Scholes-Pricing-Model/black-scholes-frontend/src/app/app.py:318: RuntimeWarning: divide by zero encountered in scalar divide\n",
      "  d1 = (np.log(S / K) + (r + 0.5 * sigma**2) * T) / (sigma * np.sqrt(T))\n"
     ]
    }
   ],
   "source": [
    "tickers = [\n",
    "    \"AAPL\", \"MSFT\", \"GOOGL\", \"AMZN\", \"META\", \"TSLA\", \"NVDA\", \"BRK-B\", \"JNJ\", \"V\",\n",
    "    \"UNH\", \"WMT\", \"PG\", \"JPM\", \"HD\", \"MA\", \"CVX\", \"PFE\", \"ABBV\", \"KO\",\n",
    "    \"PEP\", \"XOM\", \"CSCO\", \"ADBE\", \"NFLX\", \"INTC\", \"T\", \"MRK\", \"BAC\", \"DIS\",\n",
    "    \"CRM\", \"COST\", \"WFC\", \"MCD\", \"ABT\", \"VZ\", \"NKE\", \"LLY\", \"CMCSA\", \"AVGO\",\n",
    "    \"TXN\", \"QCOM\", \"ORCL\", \"AMD\", \"IBM\", \"HON\", \"DHR\", \"GE\", \"UPS\", \"LIN\",\n",
    "    \"LOW\", \"PM\", \"RTX\", \"CAT\", \"SPGI\", \"MMM\", \"INTU\", \"AMGN\", \"GS\", \"BA\",\n",
    "    \"BLK\", \"SCHW\", \"TGT\", \"MDT\", \"ISRG\", \"SYK\", \"AMAT\", \"ADP\", \"NOW\", \"MU\",\n",
    "    \"EL\", \"ZTS\", \"MS\", \"BKNG\", \"DE\", \"AXP\", \"APD\", \"REGN\", \"LMT\", \"ADI\",\n",
    "    \"FIS\", \"AON\", \"PLD\", \"VRTX\", \"CI\", \"TMO\", \"ITW\", \"ATVI\", \"ECL\", \"KMB\",\n",
    "    \"CL\", \"CARR\", \"CB\", \"PSA\", \"NEM\", \"EXC\", \"ICE\", \"STZ\", \"GILD\", \"MMC\",\n",
    "    \"EW\", \"DG\", \"FDX\", \"WBA\", \"LRCX\", \"ALGN\", \"MNST\", \"EBAY\", \"ROST\", \"CTSH\"\n",
    "]\n",
    "\n",
    "\n",
    "\n",
    "\n",
    "def acc(arg):\n",
    "    try:\n",
    "            \n",
    "            symbol = arg\n",
    "            stock = yf.Ticker(symbol)\n",
    "            stock_price = stock.history(period=\"1d\")[\"Close\"].iloc[-1]\n",
    "            name = stock.info.get(\"longName\", \"Company name not found\")\n",
    "            expiring_dates = stock.options\n",
    "            early_date = expiring_dates[0] #Getting the first expiring date\n",
    "            options_chain = stock.option_chain(early_date)\n",
    "            calls = options_chain.calls\n",
    "            puts = options_chain.puts\n",
    "            strike_price_calls = calls['strike'].iloc[0]\n",
    "            strike_price_puts = puts['strike'].iloc[0]\n",
    "            today = datetime.today().date()\n",
    "            early_date_obj = datetime.strptime(early_date, '%Y-%m-%d').date()\n",
    "            time_to_expiry = (early_date_obj - today).days / 365\n",
    "            if time_to_expiry <= 0:\n",
    "                print(\"Expiration date is today or has already passed. Adjusting T to 1 day.\")\n",
    "            time_to_expiry = 1 / 365\n",
    "            implied_volatility_calls = calls[calls['strike'] == strike_price_calls]['impliedVolatility'].values[0]\n",
    "            implied_volatility_puts = puts[puts['strike'] == strike_price_puts]['impliedVolatility'].values[0]\n",
    "            treasury_data = yf.Ticker(\"^IRX\")\n",
    "            latest_data = treasury_data.history(period=\"1d\")\n",
    "            treasury_yield = latest_data['Close'].iloc[-1]\n",
    "            risk_free_rate = treasury_yield/100 \n",
    "            option_premium_call = calls[calls['strike'] == strike_price_calls]['lastPrice']\n",
    "            option_premium_puts = puts[puts['strike'] == strike_price_puts]['lastPrice']\n",
    "            optimized_implied_volatility = sentiment_analysis(symbol)\n",
    "            print(\"hi\", sentiment_analysis(symbol))\n",
    "            print(\"Today:\", today)\n",
    "            print(\"Early Date Object:\", early_date_obj)\n",
    "            print(\"Difference (days):\", (early_date_obj - today).days)\n",
    "            option_type_put = \"put\"\n",
    "            \n",
    "\n",
    "            \n",
    "\n",
    "            new_volitlity_calls = implied_volatility_calls * (1+2 * (optimized_implied_volatility - 0.5))\n",
    "            S = stock_price\n",
    "            K_calls = strike_price_calls\n",
    "            K_puts = strike_price_puts\n",
    "            r = risk_free_rate\n",
    "            T = time_to_expiry\n",
    "            if T == 0: #Time will go to 0 on weekends so made this temp fix :)\n",
    "                T = 1\n",
    "            if K_calls == 0:\n",
    "                print(\"this is K\", K_calls)\n",
    "            \n",
    "            sigma = implied_volatility_calls\n",
    "            option_type = \"call\"\n",
    "            if sigma == 0:\n",
    "                print(\"this is sigma\" , sigma)\n",
    "           \n",
    "            price = black_scholes_price(S, K_calls, r, T, sigma, option_type)\n",
    "            greeks = black_scholes_greeks(S, K_calls, r, T, sigma, option_type)\n",
    "            optimized_price = black_scholes_price(S, K_calls, r, T, new_volitlity_calls, option_type)\n",
    "            put_price = black_scholes_price(S, K_puts, r, T, sigma, option_type_put)\n",
    "            greeks_put = black_scholes_greeks(S, K_puts, r, T, sigma, option_type_put)\n",
    "            optimized_price_put = black_scholes_price(S, K_puts, r, T, new_volitlity_calls, option_type_put)\n",
    "\n",
    "          \n",
    "\n",
    "                     \n",
    "            \n",
    "  \n",
    "            \n",
    "            result = {\"name\": name, \"stock price\": stock_price, \"time to maturity\": time_to_expiry, \"implied volatility\": implied_volatility_calls, \"risk free rate\": risk_free_rate, \"call strike price\": strike_price_calls\n",
    "            , \"price\": price, \"Real-world premium\": option_premium_call.values[0], \"Optimized premium\": optimized_price\n",
    "            }\n",
    "            vals = [option_premium_call.values[0], optimized_price, price]\n",
    "            return vals\n",
    "             \n",
    "\n",
    "    except Exception as e:\n",
    "            result = (\"Error: \", e)\n",
    "            return e\n",
    "       \n",
    "\n",
    "list_vals = []          \n",
    "for ticker in tickers:\n",
    "    val = acc(ticker)   \n",
    "    list_vals.append(val)   \n",
    "print(list_vals)\n",
    "  \n",
    "\n",
    "   \n",
    "   \n",
    "   \n",
    "   \n",
    "   \n",
    "\n",
    "    "
   ]
  },
  {
   "cell_type": "code",
   "execution_count": 17,
   "metadata": {},
   "outputs": [
    {
     "name": "stdout",
     "output_type": "stream",
     "text": [
      "[[149.6, 138.37206197188715, 138.3720620167095], [181.5, 183.3775749298827, 183.37757492997233], [91.08, 91.8014802971191, 91.8014803969424], [119.08, 119.20206380294185, 119.20206380305775], [426.4, 424.6506815025878, 424.650681502982], [406.45, 335.448617699646, 335.4486208715731], [94.18, 94.47574472619627, 94.47574472619661], [124.5, 123.59790469484852, 123.59790506069675], [20.66, 14.204935555688422, 14.20658473946807], [148.35, 144.92953158078606, 144.92954049069758], [205.61, 203.03560973405752, 203.0356158338662], [25.28, 25.78746533643796, 25.79413249886761], [24.2, 19.146775918852484, 19.15101079532883], [41.7, 43.30297280126945, 43.303373344725514], [50.4, 46.719335688409274, 46.71933884628294], [160.15, 146.4030616427611, 146.4030616427611], [20.15, 23.86424999713863, 23.864253325386443], [11.41, 11.591723204235834, 11.59172430561999], [67.71, 71.23263693278804, 71.23263703810332], [17.95, 16.75516915494383, 16.75516919858945], [72.64, 64.65975785582272, 64.65975785873871], [25.52, 17.87033892023922, 17.870339569026754], [11.6, 10.865514375624983, 10.86551487845884], [250.5, 130.6044683571776, 130.6044683571776], [499.97, 491.0947871358153, 491.0947871380046], [5.28, 5.561722517590326, 5.585213859860838], [8.9, 8.671608257832025, 8.671608376483682], [19.7, 19.149188998437467, 19.149201442763598], [14.75, 14.813447476586902, 14.815443545621768], [27.79, 26.16976762144772, 26.17769144187868], [159.49, 137.92239356790765, 137.9224087363045], [416.33, 376.64204694916975, 376.6420469498512], [21.1, 21.315741064086893, 21.315741064858322], [131.5, 129.79895234742426, 129.79895234742426], [7.75, 7.842178062700157, 7.842335582585903], [18.1, 15.262870074279775, 15.262870233898017], [29.0, 23.315741064086893, 23.315741166070474], [227.3, 222.0443077302732, 222.04455369987386], [11.85, 11.672984791801749, 11.720065345853424], [147.28, 142.56034136164547, 142.56045624548597], [22.2, 20.529522425512624, 20.5319554408388], [60.83, 57.841488842040974, 57.84256600509791], [42.0, 31.33551478905025, 31.33641421785589], [51.61, 55.37804365427243, 55.37804368794576], [30.35, 30.17210639263297, 30.172231871164456], [10.6, 11.544701346081467, 11.56169685395355], [31.9, 24.864119060961826, 24.864119060961826], [70.0, 71.97149372485347, 71.97149373220095], [23.45, 23.80148792651363, 23.801534838504182], [310.35, 278.5155074648315, 278.51562744016957], [73.05, 73.50009799676508, 73.50009799677267], [18.68, 17.032058004602007, 17.03211885344362], [15.6, 15.881489757568318, 15.881498698335847], [25.5, 23.82906438227525, 23.845016801217298], [45.35, 19.625144976952924, 19.625144976952924], [15.8, 15.883090309711875, 15.883120354402763], [34.3, 25.299476885217018, 25.370745816902627], [6.87, 6.249293098718169, 6.352073970817997], [117.28, 95.18571688609597, 95.18584183418062], [63.9, 74.91090655692135, 74.91090836701598], [303.88, 270.9161696722409, 270.91616967309665], [17.03, 9.457463505383274, 9.458104793275979], [38.5, 35.8014802971191, 35.80148031232342], [11.5, 10.958037855932588, 10.958054802360309], [118.81, 120.33764912293685, 120.33764912350534], [268.0, 256.53205037520746, 256.56882721893095], [30.3, 30.07607937397455, 30.07819681610067], [26.7, 21.72101737106925, 21.74667510827362], [538.2, 513.8343467927732, 513.8343467949572], [35.23, 34.87632060262449, 34.87633773957898], [13.28, 10.167125608920877, 10.167126252318724], [77.0, 63.321484569580036, 63.381702066309245], [25.18, 25.951489452392536, 25.962199334912455], [764.9, 634.3405930253648, 634.3414250520218], [99.1, 72.26020575915516, 72.2602060513617], [34.7, 38.11042715137927, 38.11077081123875], [175.38, 163.92378807529292, 163.92378807529292], [238.38, 178.2120542733885, 178.2120542769062], [188.31, 171.85561705827627, 171.8556170727423], [5.1, 5.394117840258701, 5.534676388869286], [0.39, 0.0, 0.08485407963296154], [151.3, 203.99724150280755, 203.99724150280755], [55.9, 55.63574075891111, 55.63574075891111], [118.6, 137.1410002812255, 137.14146863279655], [61.0, 65.72470928065178, 65.7247092868233], [39.0, 42.07630588508283, 42.12637377253321], [55.3, 52.312967308105385, 52.312967308223904], IndexError('single positional indexer is out-of-bounds'), [71.21, 56.950094945007265, 57.14112899407422], [3.2, 0.7748127510082554, 0.9520510533716617], [0.87, 0.16033983576656397, 0.7911131033752667], [31.35, 41.7631610642517, 41.7631610642517], [145.9, 141.7449441006103, 141.7696886511455], [121.6, 100.47298622900382, 100.47298622900382], [8.15, 8.113446713647448, 8.113637509573103], [20.8, 18.052296639257804, 18.055980103688327], [62.34, 104.84516549283445, 104.84516549283445], [38.0, 36.94124913926996, 36.941250313779335], [9.9, 8.419537881227996, 8.419707433709263], [98.68, 91.28378868564448, 91.28484936637975], [37.94, 38.914024115954575, 38.91402411595988], [16.97, 9.677464726086399, 9.67753257369381], [48.75, 39.43699813792716, 39.437000384134166], [5.6, 5.500459480439451, 5.507577318394832], [34.36, 35.11459541474608, 35.11470661243515], [22.2, 15.782107002984532, 16.04670660926098], [10.13, 9.394938804372543, 9.394938931746772], [9.05, 7.6162035962841586, 7.61631245751542], [8.6, 9.26665616593013, 9.286317983398476], [39.67, 46.383443356713855, 46.383443356713855]]\n"
     ]
    },
    {
     "ename": "TypeError",
     "evalue": "'IndexError' object is not subscriptable",
     "output_type": "error",
     "traceback": [
      "\u001b[0;31m---------------------------------------------------------------------------\u001b[0m",
      "\u001b[0;31mTypeError\u001b[0m                                 Traceback (most recent call last)",
      "Cell \u001b[0;32mIn[17], line 5\u001b[0m\n\u001b[1;32m      3\u001b[0m \u001b[39mprint\u001b[39m(list_vals)\n\u001b[1;32m      4\u001b[0m \u001b[39mfor\u001b[39;00m i \u001b[39min\u001b[39;00m list_vals:\n\u001b[0;32m----> 5\u001b[0m     avg_optimized \u001b[39m=\u001b[39m \u001b[39m100\u001b[39m \u001b[39m-\u001b[39m (\u001b[39mabs\u001b[39m(i[\u001b[39m0\u001b[39;49m]\u001b[39m-\u001b[39mi[\u001b[39m1\u001b[39m])\u001b[39m/\u001b[39mi[\u001b[39m0\u001b[39m])\u001b[39m*\u001b[39m\u001b[39m100\u001b[39m\n\u001b[1;32m      6\u001b[0m     avg_black \u001b[39m=\u001b[39m \u001b[39m100\u001b[39m \u001b[39m-\u001b[39m (\u001b[39mabs\u001b[39m(i[\u001b[39m0\u001b[39m]\u001b[39m-\u001b[39mi[\u001b[39m2\u001b[39m])\u001b[39m/\u001b[39mi[\u001b[39m0\u001b[39m])\u001b[39m*\u001b[39m\u001b[39m100\u001b[39m\n\u001b[1;32m      7\u001b[0m     averages_i \u001b[39m=\u001b[39m [avg_optimized]\n",
      "\u001b[0;31mTypeError\u001b[0m: 'IndexError' object is not subscriptable"
     ]
    }
   ],
   "source": [
    "averages = []\n",
    "print(\"Original list_vals:\", list_vals)\n",
    "\n",
    "# Filter invalid entries\n",
    "valid_list_vals = [i for i in list_vals if isinstance(i, (list, tuple)) and len(i) >= 3]\n",
    "print(\"Valid list_vals:\", valid_list_vals)\n",
    "\n",
    "# Process each valid entry\n",
    "for i in valid_list_vals:\n",
    "    if i[0] == 0:  # Handle division by zero\n",
    "        print(\"Skipping due to zero denominator:\", i)\n",
    "        continue\n",
    "    avg_optimized = 100 - (abs(i[0] - i[1]) / i[0]) * 100\n",
    "    avg_black = 100 - (abs(i[0] - i[2]) / i[0]) * 100\n",
    "    averages.append([avg_optimized, avg_black])\n",
    "\n",
    "print(\"Computed Averages:\", averages)\n",
    "\n"
   ]
  }
 ],
 "metadata": {
  "kernelspec": {
   "display_name": "Python 3",
   "language": "python",
   "name": "python3"
  },
  "language_info": {
   "codemirror_mode": {
    "name": "ipython",
    "version": 3
   },
   "file_extension": ".py",
   "mimetype": "text/x-python",
   "name": "python",
   "nbconvert_exporter": "python",
   "pygments_lexer": "ipython3",
   "version": "3.10.8"
  },
  "orig_nbformat": 4,
  "vscode": {
   "interpreter": {
    "hash": "aee8b7b246df8f9039afb4144a1f6fd8d2ca17a180786b69acc140d282b71a49"
   }
  }
 },
 "nbformat": 4,
 "nbformat_minor": 2
}
