{
 "cells": [
  {
   "cell_type": "code",
   "execution_count": 7,
   "metadata": {},
   "outputs": [],
   "source": [
    "import pandas as pd\n",
    "import numpy as np\n",
    "from app import *\n",
    "\n",
    "\n",
    "\n",
    "  "
   ]
  },
  {
   "cell_type": "code",
   "execution_count": 8,
   "metadata": {},
   "outputs": [
    {
     "name": "stdout",
     "output_type": "stream",
     "text": [
      "name 'market_open' is not defined\n"
     ]
    }
   ],
   "source": [
    "   \n",
    "tickers = [\"AAPL\", \"MSFT\", \"GOOGL\", \"AMZN\", \"META\", \"TSLA\", \"NVDA\"]\n",
    "\n",
    "\n",
    "\n",
    "def acc(arg):\n",
    "    try:\n",
    "        symbol = arg\n",
    "        stock = yf.Ticker(symbol)\n",
    "        if market_open():\n",
    "                stock_price = stock.history(period=\"1d\")[\"Close\"].iloc[-1]\n",
    "        else:\n",
    "                stock_price = stock.history(period=\"5d\")[\"Close\"].iloc[-1] \n",
    "        name = stock.info.get(\"longName\", \"Company name not found\")\n",
    "        expiring_dates = stock.options\n",
    "        early_date = expiring_dates[0]  # Getting the first expiring date\n",
    "        options_chain = stock.option_chain(early_date)\n",
    "        calls = options_chain.calls\n",
    "        puts = options_chain.puts\n",
    "        strike_price_calls = calls['strike'].iloc[0]\n",
    "        strike_price_puts = puts['strike'].iloc[0]\n",
    "        today = datetime.today().date()\n",
    "        early_date_obj = datetime.strptime(early_date, '%Y-%m-%d').date()\n",
    "        time_to_expiry = (early_date_obj - today).days / 365\n",
    "        if time_to_expiry <= 0:\n",
    "            print(\"Expiration date is today or has already passed. Adjusting T to 1 day.\")\n",
    "            time_to_expiry = 1 / 365\n",
    "        implied_volatility_calls = calls[calls['strike'] == strike_price_calls]['impliedVolatility'].values[0]\n",
    "        implied_volatility_puts = puts[puts['strike'] == strike_price_puts]['impliedVolatility'].values[0]\n",
    "        treasury_data = yf.Ticker(\"^IRX\")\n",
    "        latest_data = treasury_data.history(period=\"1d\")\n",
    "        treasury_yield = latest_data['Close'].iloc[-1]\n",
    "        risk_free_rate = treasury_yield / 100\n",
    "        option_premium_call = calls[calls['strike'] == strike_price_calls]['lastPrice']\n",
    "        option_premium_puts = puts[puts['strike'] == strike_price_puts]['lastPrice']\n",
    "        optimized_implied_volatility = sentiment_analysis(symbol)\n",
    "        print(\"hi\", sentiment_analysis(symbol))\n",
    "        print(\"Today:\", today)\n",
    "        print(\"Early Date Object:\", early_date_obj)\n",
    "        print(\"Difference (days):\", (early_date_obj - today).days)\n",
    "\n",
    "        new_volitlity_calls = implied_volatility_calls * (1 + 2 * (optimized_implied_volatility - 0.5))\n",
    "        S = stock_price\n",
    "        K = strike_price_calls\n",
    "        r = risk_free_rate\n",
    "        T = time_to_expiry\n",
    "        if T == 0:  # Time will go to 0 on weekends so made this temp fix :)\n",
    "            T = 1\n",
    "        if K == 0:\n",
    "            print(\"this is K\", K)\n",
    "            \n",
    "\n",
    "        sigma = implied_volatility_calls\n",
    "        option_type = \"call\"\n",
    "        if sigma == 0:\n",
    "            print(\"this is sigma\", sigma)\n",
    "            \n",
    "\n",
    "        price = black_scholes_price(S, K, r, T, sigma, option_type)\n",
    "        greeks = black_scholes_greeks(S, K, r, T, sigma, option_type)\n",
    "        optimized_price = black_scholes_price(S, K, r, T, new_volitlity_calls, option_type)\n",
    "\n",
    "        result = {\n",
    "            \"name\": name,\n",
    "            \"stock price\": stock_price,\n",
    "            \"time to maturity\": time_to_expiry,\n",
    "            \"implied volatility\": implied_volatility_calls,\n",
    "            \"risk free rate\": risk_free_rate,\n",
    "            \"call strike price\": strike_price_calls,\n",
    "            \"price\": price,\n",
    "            \"Real-world premium\": option_premium_call.values[0],\n",
    "            \"Optimized premium\": optimized_price\n",
    "        }\n",
    "\n",
    "        vals = [option_premium_call.values[0], optimized_price, price]\n",
    "        return vals\n",
    "    except Exception as e:\n",
    "        return e\n",
    "\n",
    "list_vals = []          \n",
    "# for ticker in tickers:\n",
    "#     #val = acc(ticker)   \n",
    "#     list_vals.append(val)   \n",
    "\n",
    "print(acc(\"AAPL\"))       \n",
    "\n",
    "   \n",
    "   \n",
    "   \n",
    "   \n",
    "   \n",
    "\n",
    "    "
   ]
  },
  {
   "cell_type": "code",
   "execution_count": 6,
   "metadata": {},
   "outputs": [
    {
     "name": "stdout",
     "output_type": "stream",
     "text": [
      "[]\n"
     ]
    }
   ],
   "source": [
    "averages_i = []\n",
    "averages = []\n",
    "for i in list_vals:\n",
    "    avg_optimized = 100 - (abs(i[0]-i[1])/i[0])*100\n",
    "    avg_black = 100 - (abs(i[0]-i[2])/i[0])*100\n",
    "    averages_i = [avg_optimized]\n",
    "    averages_i.append(avg_black)\n",
    "    averages.append(averages_i)\n",
    "    averages_i = []\n",
    "print(averages)\n",
    "\n"
   ]
  }
 ],
 "metadata": {
  "kernelspec": {
   "display_name": "Python 3",
   "language": "python",
   "name": "python3"
  },
  "language_info": {
   "codemirror_mode": {
    "name": "ipython",
    "version": 3
   },
   "file_extension": ".py",
   "mimetype": "text/x-python",
   "name": "python",
   "nbconvert_exporter": "python",
   "pygments_lexer": "ipython3",
   "version": "3.10.8"
  },
  "orig_nbformat": 4,
  "vscode": {
   "interpreter": {
    "hash": "aee8b7b246df8f9039afb4144a1f6fd8d2ca17a180786b69acc140d282b71a49"
   }
  }
 },
 "nbformat": 4,
 "nbformat_minor": 2
}
